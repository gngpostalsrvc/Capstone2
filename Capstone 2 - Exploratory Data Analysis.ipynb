{
 "cells": [
  {
   "cell_type": "markdown",
   "id": "5002dfb4",
   "metadata": {},
   "source": [
    "# 2. Exploratory Data Analysis"
   ]
  },
  {
   "cell_type": "code",
   "execution_count": 1,
   "id": "5c785ea1",
   "metadata": {},
   "outputs": [],
   "source": [
    "#Import the necessary packages\n",
    "import pandas as pd\n",
    "import numpy as np\n",
    "import matplotlib.pyplot as plt"
   ]
  },
  {
   "cell_type": "code",
   "execution_count": 2,
   "id": "0fb67615",
   "metadata": {},
   "outputs": [],
   "source": [
    "#Load the data\n",
    "df = pd.read_csv('Corona_NLP.csv')"
   ]
  },
  {
   "cell_type": "markdown",
   "id": "a4c48f7e",
   "metadata": {},
   "source": [
    "Because this is a categorization problem, there isn't much EDA to be done until I tokenize and vectorize all of \n",
    "the words in the OriginalTweet column during the pre-processing stage of analysis. For now, I've simply produced a \n",
    "value count of the different sentiment scores, plotted it as a histogram, and assessed how well my own impression \n",
    "of the data coheres with the sentiment scores assigned by the dataset's creator using a hypothesis test."
   ]
  },
  {
   "cell_type": "code",
   "execution_count": 3,
   "id": "fd658fab",
   "metadata": {},
   "outputs": [
    {
     "data": {
      "text/plain": [
       "Positive              12366\n",
       "Negative              10951\n",
       "Neutral                8313\n",
       "Extremely Positive     7223\n",
       "Extremely Negative     6071\n",
       "Name: Sentiment, dtype: int64"
      ]
     },
     "execution_count": 3,
     "metadata": {},
     "output_type": "execute_result"
    }
   ],
   "source": [
    "df['Sentiment'].value_counts()"
   ]
  },
  {
   "cell_type": "markdown",
   "id": "29206d80",
   "metadata": {},
   "source": [
    "Interestingly, the value count skews toward the positive with more positive tweets than negative ones and \n",
    "more extremely positive tweets than extremely negative ones. Neutral tweets are also less common than positive and\n",
    "negative tweets, yielding a distribution with two peaks. "
   ]
  },
  {
   "cell_type": "code",
   "execution_count": 4,
   "id": "f06da63c",
   "metadata": {},
   "outputs": [
    {
     "data": {
      "image/png": "[encoded data removed]",
      "text/plain": [
       "<Figure size 432x288 with 1 Axes>"
      ]
     },
     "metadata": {
      "needs_background": "light"
     },
     "output_type": "display_data"
    }
   ],
   "source": [
    "df['Sentiment'].value_counts().loc[['Extremely Negative', 'Negative', 'Neutral', 'Positive', 'Extremely Positive']].plot.bar()\n",
    "plt.xlabel('Sentiment score')\n",
    "plt.ylabel('Count')\n",
    "plt.title('Distribution of sentiment scores')\n",
    "plt.show();"
   ]
  },
  {
   "cell_type": "markdown",
   "id": "6527ca37",
   "metadata": {},
   "source": [
    "Assessment of sentiment depends on a variety of factors (e.g., cultural context, individual disposition, etc.). \n",
    "Therefore, it is important to determine whether and to what extent I agree with the sentiment scores that \n",
    "the dataset's creator assigned to each Tweet. To do so, I examined a pseudo-random sample of ten Tweets and added \n",
    "my own sentiment scores to the sample data.  "
   ]
  },
  {
   "cell_type": "code",
   "execution_count": 5,
   "id": "af6023ce",
   "metadata": {},
   "outputs": [],
   "source": [
    "pd.set_option('display.max_colwidth', 500)\n",
    "sample = df.sample(10, random_state=42) #set the random state to ensure reproducibility\n",
    "sample['OriginalTweet']\n",
    "sample[\"Aren's Sentiment\"] = ['Neutral', 'Neutral', 'Neutral', 'Negative', 'Positive', 'Negative', 'Extremely Negative', 'Positive', 'Neutral', 'Neutral']"
   ]
  },
  {
   "cell_type": "markdown",
   "id": "10dc68bf",
   "metadata": {},
   "source": [
    "I then checked them against the scores assigned by the dataset's creator. "
   ]
  },
  {
   "cell_type": "code",
   "execution_count": 6,
   "id": "7ee83547",
   "metadata": {},
   "outputs": [
    {
     "data": {
      "text/html": [
       "<div>\n",
       "<style scoped>\n",
       "    .dataframe tbody tr th:only-of-type {\n",
       "        vertical-align: middle;\n",
       "    }\n",
       "\n",
       "    .dataframe tbody tr th {\n",
       "        vertical-align: top;\n",
       "    }\n",
       "\n",
       "    .dataframe thead th {\n",
       "        text-align: right;\n",
       "    }\n",
       "</style>\n",
       "<table border=\"1\" class=\"dataframe\">\n",
       "  <thead>\n",
       "    <tr style=\"text-align: right;\">\n",
       "      <th></th>\n",
       "      <th>Unnamed: 0</th>\n",
       "      <th>OriginalTweet</th>\n",
       "      <th>Sentiment</th>\n",
       "      <th>Aren's Sentiment</th>\n",
       "    </tr>\n",
       "  </thead>\n",
       "  <tbody>\n",
       "    <tr>\n",
       "      <th>37162</th>\n",
       "      <td>37186</td>\n",
       "      <td>New research from and shows a consumer spending spike due to stockpiling amid the COVID 19 pandemic Frozen pizza purchases are up 117 and frozen cookie dough sales have risen 570</td>\n",
       "      <td>Neutral</td>\n",
       "      <td>Neutral</td>\n",
       "    </tr>\n",
       "    <tr>\n",
       "      <th>21958</th>\n",
       "      <td>21975</td>\n",
       "      <td>The #coronavirus social distancing &amp;amp; stay home measures creating opportunities for eCommerce platforms around the world including Gobeba of #Kenya seeing a tripling of orders, especially in food &amp;amp; household items as more Kenyans shift to online shopping! @alnafrica  news.</td>\n",
       "      <td>Positive</td>\n",
       "      <td>Neutral</td>\n",
       "    </tr>\n",
       "    <tr>\n",
       "      <th>41967</th>\n",
       "      <td>41994</td>\n",
       "      <td>@Flipkart   @TataConsumer  announce partnership to enable access to essential food amp beverage products to consumers as Collaboration is key to success to ensure  @PMOIndia   @amitabhk87</td>\n",
       "      <td>Extremely Positive</td>\n",
       "      <td>Neutral</td>\n",
       "    </tr>\n",
       "    <tr>\n",
       "      <th>31033</th>\n",
       "      <td>31054</td>\n",
       "      <td>Id like to use this time to be super productive during this pandemic, but all I have so far is an online shopping debt and a full fledged alcohol problem #Lockdownaustralia #coronavirus #Isolation</td>\n",
       "      <td>Negative</td>\n",
       "      <td>Negative</td>\n",
       "    </tr>\n",
       "    <tr>\n",
       "      <th>30260</th>\n",
       "      <td>30278</td>\n",
       "      <td>Don t be intimidated by the Covid 19 Virus Stay clean and avoid public meetings And pray to the Creator for all A good atmosphere is needed to get the pure air Welcome to Online Shopping Please visit</td>\n",
       "      <td>Extremely Positive</td>\n",
       "      <td>Positive</td>\n",
       "    </tr>\n",
       "    <tr>\n",
       "      <th>18378</th>\n",
       "      <td>18390</td>\n",
       "      <td>#covid-19 #corona please don't over react and buy face masks and sanitizers heavily which helps in scarcity of those and hike in prices ....don't make them scarce for needed. https://t.co/VSJAHA9puU</td>\n",
       "      <td>Positive</td>\n",
       "      <td>Negative</td>\n",
       "    </tr>\n",
       "    <tr>\n",
       "      <th>38978</th>\n",
       "      <td>39002</td>\n",
       "      <td>I work at a grocery store. a relatively young customer just told me #coronavirus is \"a Chinese attack in retaliation for the tariffs we put on them\". what the fuck is wrong with America and American media</td>\n",
       "      <td>Extremely Negative</td>\n",
       "      <td>Extremely Negative</td>\n",
       "    </tr>\n",
       "    <tr>\n",
       "      <th>20152</th>\n",
       "      <td>20168</td>\n",
       "      <td>Dont forget to donate some food to your local food bank when you visit the supermarket. There are people out there who desperately need our help. I fear that they may have been forgotten about with all this #PanicBuying mayhem going on. #FoodBanks #coronavirus</td>\n",
       "      <td>Extremely Negative</td>\n",
       "      <td>Positive</td>\n",
       "    </tr>\n",
       "    <tr>\n",
       "      <th>38439</th>\n",
       "      <td>38463</td>\n",
       "      <td>Mintel is measuring changes in the way consumers eat, travel, congregate and relate to the world around them during the #COVID19 pandemic. We're also uncovering the opportunities as business shifts to meet US consumer's needs. Learn more: https://t.co/cBsiCjyRUd #marketresearch</td>\n",
       "      <td>Positive</td>\n",
       "      <td>Neutral</td>\n",
       "    </tr>\n",
       "    <tr>\n",
       "      <th>31066</th>\n",
       "      <td>31087</td>\n",
       "      <td>Gain insights from the recent Brick Meets Click/ShopperKit online shopper survey plus leverage guidance &amp;amp; perspectives that will help shape strategic decisions going forward.  Register for this webinar: https://t.co/3pKIpmG7xc #onlinegrocery https://t.co/3ITUYQ0qaS</td>\n",
       "      <td>Extremely Positive</td>\n",
       "      <td>Neutral</td>\n",
       "    </tr>\n",
       "  </tbody>\n",
       "</table>\n",
       "</div>"
      ],
      "text/plain": [
       "      Unnamed: 0  \\\n",
       "37162      37186   \n",
       "21958      21975   \n",
       "41967      41994   \n",
       "31033      31054   \n",
       "30260      30278   \n",
       "18378      18390   \n",
       "38978      39002   \n",
       "20152      20168   \n",
       "38439      38463   \n",
       "31066      31087   \n",
       "\n",
       "                                                                                                                                                                                                                                                                                  OriginalTweet  \\\n",
       "37162                                                                                                        New research from and shows a consumer spending spike due to stockpiling amid the COVID 19 pandemic Frozen pizza purchases are up 117 and frozen cookie dough sales have risen 570   \n",
       "21958  The #coronavirus social distancing &amp; stay home measures creating opportunities for eCommerce platforms around the world including Gobeba of #Kenya seeing a tripling of orders, especially in food &amp; household items as more Kenyans shift to online shopping! @alnafrica  news.   \n",
       "41967                                                                                              @Flipkart   @TataConsumer  announce partnership to enable access to essential food amp beverage products to consumers as Collaboration is key to success to ensure  @PMOIndia   @amitabhk87    \n",
       "31033                                                                                     Id like to use this time to be super productive during this pandemic, but all I have so far is an online shopping debt and a full fledged alcohol problem #Lockdownaustralia #coronavirus #Isolation   \n",
       "30260                                                                                   Don t be intimidated by the Covid 19 Virus Stay clean and avoid public meetings And pray to the Creator for all A good atmosphere is needed to get the pure air Welcome to Online Shopping Please visit   \n",
       "18378                                                                                    #covid-19 #corona please don't over react and buy face masks and sanitizers heavily which helps in scarcity of those and hike in prices ....don't make them scarce for needed. https://t.co/VSJAHA9puU   \n",
       "38978                                                                              I work at a grocery store. a relatively young customer just told me #coronavirus is \"a Chinese attack in retaliation for the tariffs we put on them\". what the fuck is wrong with America and American media   \n",
       "20152                     Dont forget to donate some food to your local food bank when you visit the supermarket. There are people out there who desperately need our help. I fear that they may have been forgotten about with all this #PanicBuying mayhem going on. #FoodBanks #coronavirus   \n",
       "38439    Mintel is measuring changes in the way consumers eat, travel, congregate and relate to the world around them during the #COVID19 pandemic. We're also uncovering the opportunities as business shifts to meet US consumer's needs. Learn more: https://t.co/cBsiCjyRUd #marketresearch   \n",
       "31066             Gain insights from the recent Brick Meets Click/ShopperKit online shopper survey plus leverage guidance &amp; perspectives that will help shape strategic decisions going forward.  Register for this webinar: https://t.co/3pKIpmG7xc #onlinegrocery https://t.co/3ITUYQ0qaS   \n",
       "\n",
       "                Sentiment    Aren's Sentiment  \n",
       "37162             Neutral             Neutral  \n",
       "21958            Positive             Neutral  \n",
       "41967  Extremely Positive             Neutral  \n",
       "31033            Negative            Negative  \n",
       "30260  Extremely Positive            Positive  \n",
       "18378            Positive            Negative  \n",
       "38978  Extremely Negative  Extremely Negative  \n",
       "20152  Extremely Negative            Positive  \n",
       "38439            Positive             Neutral  \n",
       "31066  Extremely Positive             Neutral  "
      ]
     },
     "execution_count": 6,
     "metadata": {},
     "output_type": "execute_result"
    }
   ],
   "source": [
    "sample"
   ]
  },
  {
   "cell_type": "markdown",
   "id": "f58ad4a4",
   "metadata": {},
   "source": [
    "As the resulting DataFrame shows, our sentiment scores differ in several places. But how serious are these \n",
    "differences? To assess this, I replaced the categories with numbers and calculated the differences in our scores."
   ]
  },
  {
   "cell_type": "code",
   "execution_count": 7,
   "id": "974979b6",
   "metadata": {},
   "outputs": [
    {
     "data": {
      "text/html": [
       "<div>\n",
       "<style scoped>\n",
       "    .dataframe tbody tr th:only-of-type {\n",
       "        vertical-align: middle;\n",
       "    }\n",
       "\n",
       "    .dataframe tbody tr th {\n",
       "        vertical-align: top;\n",
       "    }\n",
       "\n",
       "    .dataframe thead th {\n",
       "        text-align: right;\n",
       "    }\n",
       "</style>\n",
       "<table border=\"1\" class=\"dataframe\">\n",
       "  <thead>\n",
       "    <tr style=\"text-align: right;\">\n",
       "      <th></th>\n",
       "      <th>Unnamed: 0</th>\n",
       "      <th>OriginalTweet</th>\n",
       "      <th>Sentiment</th>\n",
       "      <th>Aren's Sentiment</th>\n",
       "      <th>Difference</th>\n",
       "    </tr>\n",
       "  </thead>\n",
       "  <tbody>\n",
       "    <tr>\n",
       "      <th>37162</th>\n",
       "      <td>37186</td>\n",
       "      <td>New research from and shows a consumer spending spike due to stockpiling amid the COVID 19 pandemic Frozen pizza purchases are up 117 and frozen cookie dough sales have risen 570</td>\n",
       "      <td>2</td>\n",
       "      <td>2</td>\n",
       "      <td>0</td>\n",
       "    </tr>\n",
       "    <tr>\n",
       "      <th>21958</th>\n",
       "      <td>21975</td>\n",
       "      <td>The #coronavirus social distancing &amp;amp; stay home measures creating opportunities for eCommerce platforms around the world including Gobeba of #Kenya seeing a tripling of orders, especially in food &amp;amp; household items as more Kenyans shift to online shopping! @alnafrica  news.</td>\n",
       "      <td>3</td>\n",
       "      <td>2</td>\n",
       "      <td>1</td>\n",
       "    </tr>\n",
       "    <tr>\n",
       "      <th>41967</th>\n",
       "      <td>41994</td>\n",
       "      <td>@Flipkart   @TataConsumer  announce partnership to enable access to essential food amp beverage products to consumers as Collaboration is key to success to ensure  @PMOIndia   @amitabhk87</td>\n",
       "      <td>4</td>\n",
       "      <td>2</td>\n",
       "      <td>2</td>\n",
       "    </tr>\n",
       "    <tr>\n",
       "      <th>31033</th>\n",
       "      <td>31054</td>\n",
       "      <td>Id like to use this time to be super productive during this pandemic, but all I have so far is an online shopping debt and a full fledged alcohol problem #Lockdownaustralia #coronavirus #Isolation</td>\n",
       "      <td>1</td>\n",
       "      <td>1</td>\n",
       "      <td>0</td>\n",
       "    </tr>\n",
       "    <tr>\n",
       "      <th>30260</th>\n",
       "      <td>30278</td>\n",
       "      <td>Don t be intimidated by the Covid 19 Virus Stay clean and avoid public meetings And pray to the Creator for all A good atmosphere is needed to get the pure air Welcome to Online Shopping Please visit</td>\n",
       "      <td>4</td>\n",
       "      <td>3</td>\n",
       "      <td>1</td>\n",
       "    </tr>\n",
       "    <tr>\n",
       "      <th>18378</th>\n",
       "      <td>18390</td>\n",
       "      <td>#covid-19 #corona please don't over react and buy face masks and sanitizers heavily which helps in scarcity of those and hike in prices ....don't make them scarce for needed. https://t.co/VSJAHA9puU</td>\n",
       "      <td>3</td>\n",
       "      <td>1</td>\n",
       "      <td>2</td>\n",
       "    </tr>\n",
       "    <tr>\n",
       "      <th>38978</th>\n",
       "      <td>39002</td>\n",
       "      <td>I work at a grocery store. a relatively young customer just told me #coronavirus is \"a Chinese attack in retaliation for the tariffs we put on them\". what the fuck is wrong with America and American media</td>\n",
       "      <td>0</td>\n",
       "      <td>0</td>\n",
       "      <td>0</td>\n",
       "    </tr>\n",
       "    <tr>\n",
       "      <th>20152</th>\n",
       "      <td>20168</td>\n",
       "      <td>Dont forget to donate some food to your local food bank when you visit the supermarket. There are people out there who desperately need our help. I fear that they may have been forgotten about with all this #PanicBuying mayhem going on. #FoodBanks #coronavirus</td>\n",
       "      <td>0</td>\n",
       "      <td>3</td>\n",
       "      <td>3</td>\n",
       "    </tr>\n",
       "    <tr>\n",
       "      <th>38439</th>\n",
       "      <td>38463</td>\n",
       "      <td>Mintel is measuring changes in the way consumers eat, travel, congregate and relate to the world around them during the #COVID19 pandemic. We're also uncovering the opportunities as business shifts to meet US consumer's needs. Learn more: https://t.co/cBsiCjyRUd #marketresearch</td>\n",
       "      <td>3</td>\n",
       "      <td>2</td>\n",
       "      <td>1</td>\n",
       "    </tr>\n",
       "    <tr>\n",
       "      <th>31066</th>\n",
       "      <td>31087</td>\n",
       "      <td>Gain insights from the recent Brick Meets Click/ShopperKit online shopper survey plus leverage guidance &amp;amp; perspectives that will help shape strategic decisions going forward.  Register for this webinar: https://t.co/3pKIpmG7xc #onlinegrocery https://t.co/3ITUYQ0qaS</td>\n",
       "      <td>4</td>\n",
       "      <td>2</td>\n",
       "      <td>2</td>\n",
       "    </tr>\n",
       "  </tbody>\n",
       "</table>\n",
       "</div>"
      ],
      "text/plain": [
       "      Unnamed: 0  \\\n",
       "37162      37186   \n",
       "21958      21975   \n",
       "41967      41994   \n",
       "31033      31054   \n",
       "30260      30278   \n",
       "18378      18390   \n",
       "38978      39002   \n",
       "20152      20168   \n",
       "38439      38463   \n",
       "31066      31087   \n",
       "\n",
       "                                                                                                                                                                                                                                                                                  OriginalTweet  \\\n",
       "37162                                                                                                        New research from and shows a consumer spending spike due to stockpiling amid the COVID 19 pandemic Frozen pizza purchases are up 117 and frozen cookie dough sales have risen 570   \n",
       "21958  The #coronavirus social distancing &amp; stay home measures creating opportunities for eCommerce platforms around the world including Gobeba of #Kenya seeing a tripling of orders, especially in food &amp; household items as more Kenyans shift to online shopping! @alnafrica  news.   \n",
       "41967                                                                                              @Flipkart   @TataConsumer  announce partnership to enable access to essential food amp beverage products to consumers as Collaboration is key to success to ensure  @PMOIndia   @amitabhk87    \n",
       "31033                                                                                     Id like to use this time to be super productive during this pandemic, but all I have so far is an online shopping debt and a full fledged alcohol problem #Lockdownaustralia #coronavirus #Isolation   \n",
       "30260                                                                                   Don t be intimidated by the Covid 19 Virus Stay clean and avoid public meetings And pray to the Creator for all A good atmosphere is needed to get the pure air Welcome to Online Shopping Please visit   \n",
       "18378                                                                                    #covid-19 #corona please don't over react and buy face masks and sanitizers heavily which helps in scarcity of those and hike in prices ....don't make them scarce for needed. https://t.co/VSJAHA9puU   \n",
       "38978                                                                              I work at a grocery store. a relatively young customer just told me #coronavirus is \"a Chinese attack in retaliation for the tariffs we put on them\". what the fuck is wrong with America and American media   \n",
       "20152                     Dont forget to donate some food to your local food bank when you visit the supermarket. There are people out there who desperately need our help. I fear that they may have been forgotten about with all this #PanicBuying mayhem going on. #FoodBanks #coronavirus   \n",
       "38439    Mintel is measuring changes in the way consumers eat, travel, congregate and relate to the world around them during the #COVID19 pandemic. We're also uncovering the opportunities as business shifts to meet US consumer's needs. Learn more: https://t.co/cBsiCjyRUd #marketresearch   \n",
       "31066             Gain insights from the recent Brick Meets Click/ShopperKit online shopper survey plus leverage guidance &amp; perspectives that will help shape strategic decisions going forward.  Register for this webinar: https://t.co/3pKIpmG7xc #onlinegrocery https://t.co/3ITUYQ0qaS   \n",
       "\n",
       "       Sentiment  Aren's Sentiment  Difference  \n",
       "37162          2                 2           0  \n",
       "21958          3                 2           1  \n",
       "41967          4                 2           2  \n",
       "31033          1                 1           0  \n",
       "30260          4                 3           1  \n",
       "18378          3                 1           2  \n",
       "38978          0                 0           0  \n",
       "20152          0                 3           3  \n",
       "38439          3                 2           1  \n",
       "31066          4                 2           2  "
      ]
     },
     "execution_count": 7,
     "metadata": {},
     "output_type": "execute_result"
    }
   ],
   "source": [
    "replacement_values = {\"Extremely Negative\": 0, \"Negative\" : 1, \"Neutral\" : 2, \"Positive\" : 3, \"Extremely Positive\" : 4}\n",
    "sample[\"Sentiment\"].replace(replacement_values, inplace=True)\n",
    "sample[\"Aren's Sentiment\"].replace(replacement_values, inplace=True)\n",
    "sample[\"Difference\"] = np.abs(sample[\"Sentiment\"] - sample[\"Aren's Sentiment\"])\n",
    "sample"
   ]
  },
  {
   "cell_type": "markdown",
   "id": "3aa45734",
   "metadata": {},
   "source": [
    "Overall there is a mean difference of 1.2 between our scores."
   ]
  },
  {
   "cell_type": "code",
   "execution_count": 8,
   "id": "98f8314e",
   "metadata": {},
   "outputs": [
    {
     "data": {
      "text/plain": [
       "1.2"
      ]
     },
     "execution_count": 8,
     "metadata": {},
     "output_type": "execute_result"
    }
   ],
   "source": [
    "np.mean(sample['Difference'])"
   ]
  },
  {
   "cell_type": "markdown",
   "id": "a8a89df1",
   "metadata": {},
   "source": [
    "But with such a small sample size, the mean difference is more sensitive to outliers. If, for example, the dataset's creator and I strongly disagree about a small number of cases (like 20152) and one or more of these outliers are present in the sample, then the mean difference would be artificially inflated. To test whether or not this is the case, I've checked how the average mean difference changes as the number of samples increases. "
   ]
  },
  {
   "cell_type": "code",
   "execution_count": 9,
   "id": "092ee227",
   "metadata": {},
   "outputs": [
    {
     "data": {
      "image/png": "[encoded data removed]",
      "text/plain": [
       "<Figure size 432x288 with 1 Axes>"
      ]
     },
     "metadata": {
      "needs_background": "light"
     },
     "output_type": "display_data"
    }
   ],
   "source": [
    "sample_sizes = np.arange(10, 110, 10)\n",
    "\n",
    "variable_sample = df.sample(100, random_state=42)\n",
    "variable_sample[\"Aren's Sentiment\"] = ['Neutral', 'Neutral', 'Neutral', 'Negative', 'Positive', 'Negative', 'Extremely Negative', 'Positive', 'Neutral', 'Neutral', 'Extremely Negative', 'Negative', 'Extremely Negative', 'Neutral', 'Extremely Positive', 'Negative', 'Negative', 'Negative', 'Negative', 'Neutral', 'Extremely Negative', 'Positive', 'Negative', 'Negative', 'Extremely Negative', 'Neutral', 'Extremely Negative', 'Negative', 'Positive', 'Extremely Negative', 'Negative', 'Positive', 'Neutral', 'Negative', 'Negative', 'Positive', 'Extremely Negative', 'Extremely Negative', 'Negative', 'Negative', 'Negative', 'Neutral', 'Positive', 'Extremely Negative', 'Extremely Negative', 'Neutral', 'Negative', 'Extremely Negative', 'Negative', 'Neutral', 'Neutral', 'Negative', 'Positive', 'Negative', 'Neutral', 'Extremely Negative', 'Extremely Positive', 'Negative', 'Neutral', 'Neutral', 'Extremely Negative', 'Extremely Negative', 'Negative', 'Positive', 'Extremely Negative', 'Negative', 'Neutral', 'Neutral', 'Positive', 'Positive', 'Extremely Positive', 'Negative', 'Neutral', 'Extremely Negative', 'Neutral', 'Extremely Negative', 'Negative', 'Neutral', 'Negative', 'Positive', 'Neutral', 'Neutral', 'Neutral', 'Positive', 'Positive', 'Negative', 'Neutral', 'Negative', 'Negative', 'Positive', 'Neutral', 'Extremely Negative', 'Extremely Negative', 'Positive', 'Neutral', 'Neutral', 'Positive', 'Neutral', 'Extremely Positive', 'Positive']                                   \n",
    "variable_sample[\"Sentiment\"].replace(replacement_values, inplace=True)\n",
    "variable_sample[\"Aren's Sentiment\"].replace(replacement_values, inplace=True)\n",
    "variable_sample[\"Difference\"] = np.abs(variable_sample[\"Sentiment\"] - variable_sample[\"Aren's Sentiment\"])  \n",
    "\n",
    "mean_diffs = [np.mean(variable_sample.iloc[:size]['Difference']) for size in sample_sizes]\n",
    "\n",
    "plt.plot(sample_sizes, mean_diffs, marker='.')\n",
    "plt.xlabel('Number of sample Tweets')\n",
    "plt.ylabel('Average difference in sentiment score')\n",
    "plt.title('Average difference in sentiment score under increasing sample sizes')\n",
    "plt.show();"
   ]
  },
  {
   "cell_type": "markdown",
   "id": "145ff6f2",
   "metadata": {},
   "source": [
    "As the chart shows, the mean difference varies back and forth between 1.2 and 1 as the sample size increases, but appears to be converging somewhere 1.075. But what exactly does this mean? Does it indicate compatibility or incompatibility?  \n",
    "\n",
    "We can answer this question by preforming a hypothesis test using 10000 bootstrap resamples of both the 10 tweet and 100 tweet samples. The null hypothesis is that our sentiment scores are fundamentally incompatible (i.e., have a mean difference of 2 or more, which corresponds to a change from negative to positive or vice-versa); the alternative hypothesis is that they are compatible.  "
   ]
  },
  {
   "cell_type": "code",
   "execution_count": 10,
   "id": "eb02298d",
   "metadata": {},
   "outputs": [
    {
     "data": {
      "image/png": "[encoded data removed]",
      "text/plain": [
       "<Figure size 432x288 with 1 Axes>"
      ]
     },
     "metadata": {
      "needs_background": "light"
     },
     "output_type": "display_data"
    }
   ],
   "source": [
    "avg_diffs_10 = np.empty(10000)\n",
    "np.random.seed(42) #set the seed to ensure reproducibility\n",
    "\n",
    "for i in range(10000):\n",
    "    avg_diffs_10[i] = np.mean(np.abs(sample[\"Sentiment\"] - np.random.choice(sample[\"Aren's Sentiment\"], 10)))\n",
    "\n",
    "fig, ax = plt.subplots()\n",
    "ax.hist(avg_diffs_10, bins=100)\n",
    "ax.vlines(2, ymin=0, ymax=1200, color='red', linestyle='--')\n",
    "ax.set_xlabel('Mean difference in sentiment score')\n",
    "ax.set_ylabel('Count')\n",
    "ax.set_title('Distribution of mean differences in sentiment score')\n",
    "plt.show();"
   ]
  },
  {
   "cell_type": "code",
   "execution_count": 11,
   "id": "13744a50",
   "metadata": {},
   "outputs": [
    {
     "data": {
      "image/png": "[encoded data removed]",
      "text/plain": [
       "<Figure size 432x288 with 1 Axes>"
      ]
     },
     "metadata": {
      "needs_background": "light"
     },
     "output_type": "display_data"
    }
   ],
   "source": [
    "avg_diffs_100 = np.empty(10000)\n",
    "np.random.seed(42) #set the seed to ensure reproducibility\n",
    "\n",
    "for i in range(10000):\n",
    "    avg_diffs_100[i] = np.mean(np.abs(variable_sample[\"Sentiment\"] - np.random.choice(variable_sample[\"Aren's Sentiment\"], 100)))\n",
    "\n",
    "fig, ax = plt.subplots()\n",
    "ax.hist(avg_diffs_100, bins=100)\n",
    "ax.vlines(2, ymin=0, ymax=1200, color='red', linestyle='--')\n",
    "ax.set_xlabel('Mean difference in sentiment score')\n",
    "ax.set_ylabel('Count')\n",
    "ax.set_title('Distribution of mean differences in sentiment score')\n",
    "plt.show();"
   ]
  },
  {
   "cell_type": "markdown",
   "id": "569da312",
   "metadata": {},
   "source": [
    "The p value for a mean of 2.0 is low (~.03) for the 10 Tweet sample (indicating that we would expect a mean difference in sentiment score of 2.0 or higher in only 3% of simulations due to natural variability alone.) and extremely low (less than .0001) for the 100 Tweet sample. So I feel fairly confident in rejecting the null hypothesis and using the sentiment scores included in the dataset as a convenient proxy for my\n",
    "own. "
   ]
  },
  {
   "cell_type": "code",
   "execution_count": 13,
   "id": "561bb698",
   "metadata": {},
   "outputs": [
    {
     "data": {
      "text/plain": [
       "0.0285"
      ]
     },
     "execution_count": 13,
     "metadata": {},
     "output_type": "execute_result"
    }
   ],
   "source": [
    "p10 = len(avg_diffs_10[avg_diffs_10 > 2.0])/len(avg_diffs_10)\n",
    "p10"
   ]
  },
  {
   "cell_type": "code",
   "execution_count": 14,
   "id": "7a5329c6",
   "metadata": {},
   "outputs": [
    {
     "data": {
      "text/plain": [
       "0.0"
      ]
     },
     "execution_count": 14,
     "metadata": {},
     "output_type": "execute_result"
    }
   ],
   "source": [
    "p100 = len(avg_diffs_100[avg_diffs_100 > 2.0])/len(avg_diffs_100)\n",
    "p100"
   ]
  }
 ],
 "metadata": {
  "kernelspec": {
   "display_name": "Python 3 (ipykernel)",
   "language": "python",
   "name": "python3"
  },
  "language_info": {
   "codemirror_mode": {
    "name": "ipython",
    "version": 3
   },
   "file_extension": ".py",
   "mimetype": "text/x-python",
   "name": "python",
   "nbconvert_exporter": "python",
   "pygments_lexer": "ipython3",
   "version": "3.9.6"
  }
 },
 "nbformat": 4,
 "nbformat_minor": 5
}
