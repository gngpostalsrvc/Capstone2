{
 "cells": [
  {
   "cell_type": "markdown",
   "id": "5961d9c4",
   "metadata": {},
   "source": [
    "# 4. Modeling"
   ]
  },
  {
   "cell_type": "code",
   "execution_count": 1,
   "id": "c3d4c4e8",
   "metadata": {},
   "outputs": [],
   "source": [
    "#Import the necessary packages\n",
    "import pandas as pd\n",
    "import numpy as np\n",
    "import matplotlib.pyplot as plt\n",
    "import seaborn as sns\n",
    "from sklearn.preprocessing import StandardScaler\n",
    "from sklearn.model_selection import train_test_split, cross_val_score\n",
    "from sklearn.neighbors import KNeighborsClassifier\n",
    "from sklearn.ensemble import RandomForestClassifier, AdaBoostClassifier\n",
    "from sklearn.tree import DecisionTreeClassifier\n",
    "from sklearn.naive_bayes import GaussianNB\n",
    "from sklearn.metrics import confusion_matrix, mean_absolute_error, make_scorer\n",
    "from bayes_opt import BayesianOptimization"
   ]
  },
  {
   "cell_type": "code",
   "execution_count": 2,
   "id": "e892f744",
   "metadata": {},
   "outputs": [
    {
     "data": {
      "text/html": [
       "<div>\n",
       "<style scoped>\n",
       "    .dataframe tbody tr th:only-of-type {\n",
       "        vertical-align: middle;\n",
       "    }\n",
       "\n",
       "    .dataframe tbody tr th {\n",
       "        vertical-align: top;\n",
       "    }\n",
       "\n",
       "    .dataframe thead th {\n",
       "        text-align: right;\n",
       "    }\n",
       "</style>\n",
       "<table border=\"1\" class=\"dataframe\">\n",
       "  <thead>\n",
       "    <tr style=\"text-align: right;\">\n",
       "      <th></th>\n",
       "      <th>OriginalTweet</th>\n",
       "      <th>Sentiment</th>\n",
       "      <th>ProcessedTweet</th>\n",
       "      <th>DocVector</th>\n",
       "      <th>Feature 0</th>\n",
       "      <th>Feature 1</th>\n",
       "      <th>Feature 2</th>\n",
       "      <th>Feature 3</th>\n",
       "      <th>Feature 4</th>\n",
       "      <th>Feature 5</th>\n",
       "      <th>...</th>\n",
       "      <th>Feature 15</th>\n",
       "      <th>Feature 16</th>\n",
       "      <th>Feature 17</th>\n",
       "      <th>Feature 18</th>\n",
       "      <th>Feature 19</th>\n",
       "      <th>Feature 20</th>\n",
       "      <th>Feature 21</th>\n",
       "      <th>Feature 22</th>\n",
       "      <th>Feature 23</th>\n",
       "      <th>Feature 24</th>\n",
       "    </tr>\n",
       "  </thead>\n",
       "  <tbody>\n",
       "    <tr>\n",
       "      <th>0</th>\n",
       "      <td>TRENDING: New Yorkers encounter empty supermar...</td>\n",
       "      <td>0</td>\n",
       "      <td>trend new yorkers encounter empty supermarket ...</td>\n",
       "      <td>[ -31.063377     4.315184     3.272048   -18.3...</td>\n",
       "      <td>-31.063377</td>\n",
       "      <td>4.315184</td>\n",
       "      <td>3.272048</td>\n",
       "      <td>-18.336933</td>\n",
       "      <td>20.507353</td>\n",
       "      <td>-18.973701</td>\n",
       "      <td>...</td>\n",
       "      <td>12.867351</td>\n",
       "      <td>36.950283</td>\n",
       "      <td>-19.829515</td>\n",
       "      <td>22.515028</td>\n",
       "      <td>1.602518</td>\n",
       "      <td>-13.314288</td>\n",
       "      <td>-18.912729</td>\n",
       "      <td>-7.682436</td>\n",
       "      <td>-29.146791</td>\n",
       "      <td>-32.590302</td>\n",
       "    </tr>\n",
       "    <tr>\n",
       "      <th>1</th>\n",
       "      <td>When I couldn't find hand sanitizer at Fred Me...</td>\n",
       "      <td>3</td>\n",
       "      <td>could not find hand sanitizer fred meyer turn ...</td>\n",
       "      <td>[ -18.462826    11.85384     -2.6134028    6.3...</td>\n",
       "      <td>-18.462826</td>\n",
       "      <td>11.853840</td>\n",
       "      <td>-2.613403</td>\n",
       "      <td>6.349799</td>\n",
       "      <td>-18.324095</td>\n",
       "      <td>-4.529284</td>\n",
       "      <td>...</td>\n",
       "      <td>-1.200512</td>\n",
       "      <td>8.932176</td>\n",
       "      <td>-8.927069</td>\n",
       "      <td>15.534106</td>\n",
       "      <td>-15.571704</td>\n",
       "      <td>-4.428163</td>\n",
       "      <td>11.713925</td>\n",
       "      <td>12.254540</td>\n",
       "      <td>5.701349</td>\n",
       "      <td>-26.367716</td>\n",
       "    </tr>\n",
       "    <tr>\n",
       "      <th>2</th>\n",
       "      <td>Find out how you can protect yourself and love...</td>\n",
       "      <td>4</td>\n",
       "      <td>find protect love one</td>\n",
       "      <td>[ -2.7797158   3.3976798  -5.5020814   8.44067...</td>\n",
       "      <td>-2.779716</td>\n",
       "      <td>3.397680</td>\n",
       "      <td>-5.502081</td>\n",
       "      <td>8.440672</td>\n",
       "      <td>-8.699121</td>\n",
       "      <td>-5.226532</td>\n",
       "      <td>...</td>\n",
       "      <td>4.212283</td>\n",
       "      <td>5.015493</td>\n",
       "      <td>-11.010517</td>\n",
       "      <td>5.611660</td>\n",
       "      <td>-7.700294</td>\n",
       "      <td>-2.587625</td>\n",
       "      <td>-0.576298</td>\n",
       "      <td>-5.781661</td>\n",
       "      <td>0.555235</td>\n",
       "      <td>-8.109362</td>\n",
       "    </tr>\n",
       "    <tr>\n",
       "      <th>3</th>\n",
       "      <td>#Panic buying hits #NewYork City as anxious sh...</td>\n",
       "      <td>1</td>\n",
       "      <td>buy hit city anxious shopper stock foodampmedi...</td>\n",
       "      <td>[ -40.63399     35.210224   -24.598307   -49.4...</td>\n",
       "      <td>-40.633991</td>\n",
       "      <td>35.210224</td>\n",
       "      <td>-24.598307</td>\n",
       "      <td>-49.416866</td>\n",
       "      <td>8.011915</td>\n",
       "      <td>7.370157</td>\n",
       "      <td>...</td>\n",
       "      <td>6.071897</td>\n",
       "      <td>28.622406</td>\n",
       "      <td>-23.586481</td>\n",
       "      <td>-16.194962</td>\n",
       "      <td>-31.503876</td>\n",
       "      <td>-27.649782</td>\n",
       "      <td>-26.429310</td>\n",
       "      <td>-12.657497</td>\n",
       "      <td>-22.968901</td>\n",
       "      <td>-21.575285</td>\n",
       "    </tr>\n",
       "    <tr>\n",
       "      <th>4</th>\n",
       "      <td>#toiletpaper #dunnypaper #coronavirus #coronav...</td>\n",
       "      <td>2</td>\n",
       "      <td>everyone buy baby milk powder next everyone bu...</td>\n",
       "      <td>[ -22.85473      14.65009      17.584171      ...</td>\n",
       "      <td>-22.854731</td>\n",
       "      <td>14.650090</td>\n",
       "      <td>17.584171</td>\n",
       "      <td>6.330812</td>\n",
       "      <td>-3.588906</td>\n",
       "      <td>6.745114</td>\n",
       "      <td>...</td>\n",
       "      <td>-7.855762</td>\n",
       "      <td>31.614111</td>\n",
       "      <td>-41.765991</td>\n",
       "      <td>2.643752</td>\n",
       "      <td>8.316241</td>\n",
       "      <td>-27.605976</td>\n",
       "      <td>-7.106748</td>\n",
       "      <td>15.256669</td>\n",
       "      <td>24.210051</td>\n",
       "      <td>-8.261431</td>\n",
       "    </tr>\n",
       "  </tbody>\n",
       "</table>\n",
       "<p>5 rows × 29 columns</p>\n",
       "</div>"
      ],
      "text/plain": [
       "                                       OriginalTweet  Sentiment  \\\n",
       "0  TRENDING: New Yorkers encounter empty supermar...          0   \n",
       "1  When I couldn't find hand sanitizer at Fred Me...          3   \n",
       "2  Find out how you can protect yourself and love...          4   \n",
       "3  #Panic buying hits #NewYork City as anxious sh...          1   \n",
       "4  #toiletpaper #dunnypaper #coronavirus #coronav...          2   \n",
       "\n",
       "                                      ProcessedTweet  \\\n",
       "0  trend new yorkers encounter empty supermarket ...   \n",
       "1  could not find hand sanitizer fred meyer turn ...   \n",
       "2                              find protect love one   \n",
       "3  buy hit city anxious shopper stock foodampmedi...   \n",
       "4  everyone buy baby milk powder next everyone bu...   \n",
       "\n",
       "                                           DocVector  Feature 0  Feature 1  \\\n",
       "0  [ -31.063377     4.315184     3.272048   -18.3... -31.063377   4.315184   \n",
       "1  [ -18.462826    11.85384     -2.6134028    6.3... -18.462826  11.853840   \n",
       "2  [ -2.7797158   3.3976798  -5.5020814   8.44067...  -2.779716   3.397680   \n",
       "3  [ -40.63399     35.210224   -24.598307   -49.4... -40.633991  35.210224   \n",
       "4  [ -22.85473      14.65009      17.584171      ... -22.854731  14.650090   \n",
       "\n",
       "   Feature 2  Feature 3  Feature 4  Feature 5  ...  Feature 15  Feature 16  \\\n",
       "0   3.272048 -18.336933  20.507353 -18.973701  ...   12.867351   36.950283   \n",
       "1  -2.613403   6.349799 -18.324095  -4.529284  ...   -1.200512    8.932176   \n",
       "2  -5.502081   8.440672  -8.699121  -5.226532  ...    4.212283    5.015493   \n",
       "3 -24.598307 -49.416866   8.011915   7.370157  ...    6.071897   28.622406   \n",
       "4  17.584171   6.330812  -3.588906   6.745114  ...   -7.855762   31.614111   \n",
       "\n",
       "   Feature 17  Feature 18  Feature 19  Feature 20  Feature 21  Feature 22  \\\n",
       "0  -19.829515   22.515028    1.602518  -13.314288  -18.912729   -7.682436   \n",
       "1   -8.927069   15.534106  -15.571704   -4.428163   11.713925   12.254540   \n",
       "2  -11.010517    5.611660   -7.700294   -2.587625   -0.576298   -5.781661   \n",
       "3  -23.586481  -16.194962  -31.503876  -27.649782  -26.429310  -12.657497   \n",
       "4  -41.765991    2.643752    8.316241  -27.605976   -7.106748   15.256669   \n",
       "\n",
       "   Feature 23  Feature 24  \n",
       "0  -29.146791  -32.590302  \n",
       "1    5.701349  -26.367716  \n",
       "2    0.555235   -8.109362  \n",
       "3  -22.968901  -21.575285  \n",
       "4   24.210051   -8.261431  \n",
       "\n",
       "[5 rows x 29 columns]"
      ]
     },
     "execution_count": 2,
     "metadata": {},
     "output_type": "execute_result"
    }
   ],
   "source": [
    "#Load the data\n",
    "df = pd.read_csv('Data/processed_Corona_NLP.csv', index_col=0)\n",
    "df.head()"
   ]
  },
  {
   "cell_type": "markdown",
   "id": "775d08d6",
   "metadata": {},
   "source": [
    "Before we can begin modeling the data, we need to divide the it into explanatory and reponse variables, scale the explanatory variable, and divide each variable into the train and tests sets. "
   ]
  },
  {
   "cell_type": "code",
   "execution_count": 3,
   "id": "870075c6",
   "metadata": {},
   "outputs": [],
   "source": [
    "y = df['Sentiment']\n",
    "X = df.drop(columns=['OriginalTweet', 'Sentiment', 'ProcessedTweet', 'DocVector'])"
   ]
  },
  {
   "cell_type": "code",
   "execution_count": 4,
   "id": "92763729",
   "metadata": {},
   "outputs": [],
   "source": [
    "scale = StandardScaler()\n",
    "X_scaled = scale.fit_transform(X)"
   ]
  },
  {
   "cell_type": "code",
   "execution_count": 5,
   "id": "11810426",
   "metadata": {},
   "outputs": [],
   "source": [
    "X_train, X_test, y_train, y_test = train_test_split(X_scaled, y, test_size=.3, random_state=42)"
   ]
  },
  {
   "cell_type": "markdown",
   "id": "e98bfa3b",
   "metadata": {},
   "source": [
    "In following sections, I will use bayesian optimization to tune three simple classifiers (k-nearest neighbors, naive bayes, and decision tree) and two ensemble ones (random forest and ada boosting) on the basis of mean difference in sentiment score (i.e., Mean Absolute Error). MAE makes the most sense as a scoring metric because I'm more concerned with the overall performance of each classifier than its recall or precision (as would be the case with medical diagnostics or spam filters respectively). MAE also measures the severity of errors unlike other holistic metrics such as Matthew's Correlation Coefficient. A classifier that labeled all extremely positive Tweets as extremely negative, for example, would receive the same MCC score as a classifier that simply downgraded all extremely positive Tweets to positive. I will also plot the confusion matrix and distribution of predicted labels for each classifier in order to determine where it struggles. These visualizations along with mean difference in sentiment score will inform the final model selection."
   ]
  },
  {
   "cell_type": "code",
   "execution_count": 6,
   "id": "0000f212",
   "metadata": {},
   "outputs": [],
   "source": [
    "MAE = make_scorer(mean_absolute_error, greater_is_better=False)"
   ]
  },
  {
   "cell_type": "markdown",
   "id": "a42baafb",
   "metadata": {},
   "source": [
    "## K-Nearest Neighbors"
   ]
  },
  {
   "cell_type": "code",
   "execution_count": 70,
   "id": "c6ffde4e",
   "metadata": {},
   "outputs": [
    {
     "name": "stdout",
     "output_type": "stream",
     "text": [
      "|   iter    |  target   | n_neig... |\n",
      "-------------------------------------\n",
      "| \u001b[0m 1       \u001b[0m | \u001b[0m-0.963   \u001b[0m | \u001b[0m 79.59   \u001b[0m |\n",
      "| \u001b[95m 2       \u001b[0m | \u001b[95m-0.9585  \u001b[0m | \u001b[95m 84.63   \u001b[0m |\n",
      "| \u001b[0m 3       \u001b[0m | \u001b[0m-0.9585  \u001b[0m | \u001b[0m 84.62   \u001b[0m |\n",
      "| \u001b[0m 4       \u001b[0m | \u001b[0m-0.961   \u001b[0m | \u001b[0m 91.11   \u001b[0m |\n",
      "| \u001b[0m 5       \u001b[0m | \u001b[0m-1.022   \u001b[0m | \u001b[0m 14.79   \u001b[0m |\n",
      "| \u001b[0m 6       \u001b[0m | \u001b[0m-0.9689  \u001b[0m | \u001b[0m 51.14   \u001b[0m |\n",
      "| \u001b[0m 7       \u001b[0m | \u001b[0m-0.9664  \u001b[0m | \u001b[0m 63.13   \u001b[0m |\n",
      "| \u001b[0m 8       \u001b[0m | \u001b[0m-0.9588  \u001b[0m | \u001b[0m 99.0    \u001b[0m |\n",
      "| \u001b[0m 9       \u001b[0m | \u001b[0m-0.9809  \u001b[0m | \u001b[0m 38.93   \u001b[0m |\n",
      "| \u001b[0m 10      \u001b[0m | \u001b[0m-0.9592  \u001b[0m | \u001b[0m 86.86   \u001b[0m |\n",
      "| \u001b[95m 11      \u001b[0m | \u001b[95m-0.9569  \u001b[0m | \u001b[95m 96.69   \u001b[0m |\n",
      "| \u001b[0m 12      \u001b[0m | \u001b[0m-0.9672  \u001b[0m | \u001b[0m 70.58   \u001b[0m |\n",
      "=====================================\n"
     ]
    }
   ],
   "source": [
    "def knn_eval(n_neighbors):\n",
    "    params = {'n_neighbors' : int(n_neighbors)}\n",
    "    scores = cross_val_score(KNeighborsClassifier(**params), X_train, y_train, scoring=MAE, cv=5)\n",
    "    score = scores.mean()\n",
    "    return score\n",
    "    \n",
    "knn_BO = BayesianOptimization(knn_eval, {'n_neighbors' : (1 , 99)})\n",
    "\n",
    "knn_BO.maximize(n_iter=10, init_points=2)"
   ]
  },
  {
   "cell_type": "code",
   "execution_count": 71,
   "id": "9bc8b5db",
   "metadata": {},
   "outputs": [
    {
     "data": {
      "text/plain": [
       "{'target': -0.9569488305009454, 'params': {'n_neighbors': 96.68874973677218}}"
      ]
     },
     "execution_count": 71,
     "metadata": {},
     "output_type": "execute_result"
    }
   ],
   "source": [
    "best_params_knn = knn_BO.max\n",
    "best_params_knn"
   ]
  },
  {
   "cell_type": "code",
   "execution_count": 73,
   "id": "1a345d85",
   "metadata": {},
   "outputs": [
    {
     "data": {
      "text/plain": [
       "0.9635416666666666"
      ]
     },
     "execution_count": 73,
     "metadata": {},
     "output_type": "execute_result"
    }
   ],
   "source": [
    "knn = KNeighborsClassifier(n_neighbors=int(best_params_knn['params']['n_neighbors']))\n",
    "knn.fit(X_train, y_train)\n",
    "knn_y_pred = knn.predict(X_test)\n",
    "mean_absolute_error(y_test, knn_y_pred)"
   ]
  },
  {
   "cell_type": "code",
   "execution_count": 74,
   "id": "f9cae15b",
   "metadata": {},
   "outputs": [
    {
     "data": {
      "image/png": "[encoded data removed]",
      "text/plain": [
       "<Figure size 432x288 with 2 Axes>"
      ]
     },
     "metadata": {
      "needs_background": "light"
     },
     "output_type": "display_data"
    }
   ],
   "source": [
    "sns.heatmap(confusion_matrix(y_test, knn_y_pred))\n",
    "plt.xlabel('Predicted Sentiment')\n",
    "plt.ylabel('Actual Sentiment')\n",
    "plt.title('Confusion Matrix for K-Nearest Neigbors')\n",
    "plt.show();"
   ]
  },
  {
   "cell_type": "code",
   "execution_count": 75,
   "id": "899c4c29",
   "metadata": {},
   "outputs": [
    {
     "data": {
      "image/png": "[encoded data removed]",
      "text/plain": [
       "<Figure size 864x504 with 2 Axes>"
      ]
     },
     "metadata": {
      "needs_background": "light"
     },
     "output_type": "display_data"
    }
   ],
   "source": [
    "knn_val_counts = pd.DataFrame(np.unique(knn_y_pred, return_counts=True)[1], index=['Extremely Negative', 'Negative', 'Neutral', 'Positive', 'Extremely Positive'], columns=['Count'])\n",
    "actual_counts = pd.DataFrame(np.unique(y_test, return_counts=True)[1], index=['Extremely Negative', 'Negative', 'Neutral', 'Positive', 'Extremely Positive'], columns=['Count'])\n",
    "\n",
    "fig, ax = plt.subplots(1,2)\n",
    "fig.set_size_inches(12, 7)\n",
    "sns.barplot(x='Count', y=actual_counts.index, orient=\"h\", data=actual_counts, ax=ax[0])\n",
    "ax[0].set_ylabel('Actual sentiment')\n",
    "ax[0].set_title('Actual Distribution of Labels')\n",
    "sns.barplot(x='Count', y=knn_val_counts.index, orient=\"h\", data=knn_val_counts, ax=ax[1])\n",
    "ax[1].set_title('Distribution of Labels Predicted by K-nearest Neigbors')\n",
    "ax[1].set_ylabel('Predicted sentiment')\n",
    "fig.tight_layout()\n",
    "plt.show();"
   ]
  },
  {
   "cell_type": "markdown",
   "id": "33bfdba2",
   "metadata": {},
   "source": [
    "As the heatmap shows, the K-nearest neighbors classifier had the most trouble distinguishing between positive and extremely positive Tweets.  In most cases, it defaulted to Positive, which led to an over-representation of positive labels. More seriously, the KNN classifer also confused positive and negative Tweets fairly regularly. Despite these problems, it still predicted sentiment labels better than I did, achieving a mean difference in sentiment score of .96 to my 1.08. "
   ]
  },
  {
   "cell_type": "markdown",
   "id": "111c01ec",
   "metadata": {},
   "source": [
    "## Naive Bayes"
   ]
  },
  {
   "cell_type": "code",
   "execution_count": 76,
   "id": "251e5334",
   "metadata": {},
   "outputs": [
    {
     "name": "stdout",
     "output_type": "stream",
     "text": [
      "|   iter    |  target   | var_sm... |\n",
      "-------------------------------------\n",
      "| \u001b[0m 1       \u001b[0m | \u001b[0m-1.095   \u001b[0m | \u001b[0m 0.9042  \u001b[0m |\n",
      "| \u001b[0m 2       \u001b[0m | \u001b[0m-1.095   \u001b[0m | \u001b[0m 0.05993 \u001b[0m |\n",
      "| \u001b[0m 3       \u001b[0m | \u001b[0m-1.095   \u001b[0m | \u001b[0m 0.9998  \u001b[0m |\n",
      "| \u001b[0m 4       \u001b[0m | \u001b[0m-1.095   \u001b[0m | \u001b[0m 0.000241\u001b[0m |\n",
      "| \u001b[0m 5       \u001b[0m | \u001b[0m-1.095   \u001b[0m | \u001b[0m 1.0     \u001b[0m |\n",
      "| \u001b[0m 6       \u001b[0m | \u001b[0m-1.095   \u001b[0m | \u001b[0m 0.000206\u001b[0m |\n",
      "| \u001b[0m 7       \u001b[0m | \u001b[0m-1.095   \u001b[0m | \u001b[0m 1.0     \u001b[0m |\n",
      "| \u001b[0m 8       \u001b[0m | \u001b[0m-1.095   \u001b[0m | \u001b[0m 5.353e-0\u001b[0m |\n",
      "| \u001b[0m 9       \u001b[0m | \u001b[0m-1.095   \u001b[0m | \u001b[0m 0.9997  \u001b[0m |\n",
      "| \u001b[0m 10      \u001b[0m | \u001b[0m-1.095   \u001b[0m | \u001b[0m 6.813e-0\u001b[0m |\n",
      "| \u001b[0m 11      \u001b[0m | \u001b[0m-1.095   \u001b[0m | \u001b[0m 0.6498  \u001b[0m |\n",
      "| \u001b[0m 12      \u001b[0m | \u001b[0m-1.095   \u001b[0m | \u001b[0m 0.1928  \u001b[0m |\n",
      "=====================================\n"
     ]
    }
   ],
   "source": [
    "def nb_eval(var_smoothing): \n",
    "    params = {'var_smoothing' : int(var_smoothing)}\n",
    "    scores = cross_val_score(GaussianNB(**params), X_train, y_train, scoring=MAE, \n",
    "                             cv=5)\n",
    "    score = scores.mean()\n",
    "    return score\n",
    "    \n",
    "nb_BO = BayesianOptimization(nb_eval, {'var_smoothing' : (10**-9, 1)})\n",
    "\n",
    "nb_BO.maximize(n_iter=10, init_points=2)"
   ]
  },
  {
   "cell_type": "code",
   "execution_count": 77,
   "id": "520f0739",
   "metadata": {},
   "outputs": [
    {
     "data": {
      "text/plain": [
       "{'target': -1.0950947266165276,\n",
       " 'params': {'var_smoothing': 0.9041959382799045}}"
      ]
     },
     "execution_count": 77,
     "metadata": {},
     "output_type": "execute_result"
    }
   ],
   "source": [
    "best_params_nb = nb_BO.max\n",
    "best_params_nb"
   ]
  },
  {
   "cell_type": "code",
   "execution_count": 78,
   "id": "42077801",
   "metadata": {},
   "outputs": [
    {
     "data": {
      "text/plain": [
       "1.0922619047619047"
      ]
     },
     "execution_count": 78,
     "metadata": {},
     "output_type": "execute_result"
    }
   ],
   "source": [
    "nb = GaussianNB(var_smoothing=int(nb_BO.max['params']['var_smoothing']))\n",
    "nb.fit(X_train, y_train)\n",
    "nb_y_pred = nb.predict(X_test)\n",
    "mean_absolute_error(y_test, nb_y_pred)"
   ]
  },
  {
   "cell_type": "code",
   "execution_count": 79,
   "id": "9cf54a87",
   "metadata": {},
   "outputs": [
    {
     "data": {
      "image/png": "[encoded data removed]",
      "text/plain": [
       "<Figure size 432x288 with 2 Axes>"
      ]
     },
     "metadata": {
      "needs_background": "light"
     },
     "output_type": "display_data"
    }
   ],
   "source": [
    "sns.heatmap(confusion_matrix(y_test, nb_y_pred))\n",
    "plt.xlabel('Predicted Sentiment')\n",
    "plt.ylabel('Actual Sentiment')\n",
    "plt.title('Confusion Matrix for Naive Bayes')\n",
    "plt.show();"
   ]
  },
  {
   "cell_type": "code",
   "execution_count": 80,
   "id": "6fe7850e",
   "metadata": {},
   "outputs": [
    {
     "data": {
      "image/png": "[encoded data removed]",
      "text/plain": [
       "<Figure size 864x504 with 2 Axes>"
      ]
     },
     "metadata": {
      "needs_background": "light"
     },
     "output_type": "display_data"
    }
   ],
   "source": [
    "nb_val_counts = pd.DataFrame(np.unique(nb_y_pred, return_counts=True)[1], index=['Extremely Negative', 'Negative', 'Neutral', 'Positive', 'Extremely Positive'], columns=['Count'])\n",
    "\n",
    "fig, ax = plt.subplots(1,2)\n",
    "fig.set_size_inches(12, 7)\n",
    "sns.barplot(x='Count', y=actual_counts.index, orient=\"h\", data=actual_counts, ax=ax[0])\n",
    "ax[0].set_ylabel('Actual sentiment')\n",
    "ax[0].set_title('Actual Distribution of Labels')\n",
    "sns.barplot(x='Count', y=nb_val_counts.index, orient=\"h\", data=nb_val_counts, ax=ax[1])\n",
    "ax[1].set_title('Distribution of Labels Predicted by Naive Bayes')\n",
    "ax[1].set_ylabel('Predicted sentiment')\n",
    "fig.tight_layout()\n",
    "plt.show();"
   ]
  },
  {
   "cell_type": "markdown",
   "id": "4086ed22",
   "metadata": {},
   "source": [
    "The Naive Bayes classifier did an excellent job of identifying neutral Tweets, but performed poorly on the other categories. In particular, it frequently missclassified positive and negative Tweets as neutral, which suggests that it defaulted to neutral in the absence of overwhelmingly positive or negative features. The value counts of the predicted labels confirm this assessment with neutral appearing twice as frequently as the next most common label. These problems led the Naive Bayes classifier underperform both me and K-Nearest Neighbors.   "
   ]
  },
  {
   "cell_type": "markdown",
   "id": "8289cd43",
   "metadata": {},
   "source": [
    "## Decision Tree"
   ]
  },
  {
   "cell_type": "code",
   "execution_count": 81,
   "id": "dfd75561",
   "metadata": {},
   "outputs": [
    {
     "name": "stdout",
     "output_type": "stream",
     "text": [
      "|   iter    |  target   | max_depth |\n",
      "-------------------------------------\n",
      "| \u001b[0m 1       \u001b[0m | \u001b[0m-1.141   \u001b[0m | \u001b[0m 2.605   \u001b[0m |\n",
      "| \u001b[0m 2       \u001b[0m | \u001b[0m-1.227   \u001b[0m | \u001b[0m 71.27   \u001b[0m |\n",
      "| \u001b[0m 3       \u001b[0m | \u001b[0m-1.146   \u001b[0m | \u001b[0m 1.294   \u001b[0m |\n",
      "| \u001b[0m 4       \u001b[0m | \u001b[0m-1.222   \u001b[0m | \u001b[0m 20.23   \u001b[0m |\n",
      "| \u001b[0m 5       \u001b[0m | \u001b[0m-1.227   \u001b[0m | \u001b[0m 100.0   \u001b[0m |\n",
      "| \u001b[0m 6       \u001b[0m | \u001b[0m-1.227   \u001b[0m | \u001b[0m 45.89   \u001b[0m |\n",
      "| \u001b[95m 7       \u001b[0m | \u001b[95m-1.084   \u001b[0m | \u001b[95m 9.072   \u001b[0m |\n",
      "| \u001b[0m 8       \u001b[0m | \u001b[0m-1.13    \u001b[0m | \u001b[0m 12.37   \u001b[0m |\n",
      "| \u001b[0m 9       \u001b[0m | \u001b[0m-1.227   \u001b[0m | \u001b[0m 85.63   \u001b[0m |\n",
      "| \u001b[0m 10      \u001b[0m | \u001b[0m-1.227   \u001b[0m | \u001b[0m 58.64   \u001b[0m |\n",
      "| \u001b[95m 11      \u001b[0m | \u001b[95m-1.08    \u001b[0m | \u001b[95m 7.209   \u001b[0m |\n",
      "| \u001b[0m 12      \u001b[0m | \u001b[0m-1.225   \u001b[0m | \u001b[0m 33.4    \u001b[0m |\n",
      "=====================================\n"
     ]
    }
   ],
   "source": [
    "def tree_eval(max_depth): \n",
    "    params = {'max_depth' : int(max_depth)}\n",
    "    scores = cross_val_score(DecisionTreeClassifier(**params, random_state=42), X_train, y_train, scoring=MAE, cv=5)\n",
    "    score = scores.mean()\n",
    "    return score\n",
    "    \n",
    "tree_BO = BayesianOptimization(tree_eval, {'max_depth' : (1, 100)})\n",
    "\n",
    "tree_BO.maximize(n_iter=10, init_points=2)"
   ]
  },
  {
   "cell_type": "code",
   "execution_count": 82,
   "id": "acf87122",
   "metadata": {},
   "outputs": [
    {
     "data": {
      "text/plain": [
       "{'target': -1.079628667066412, 'params': {'max_depth': 7.209176161632147}}"
      ]
     },
     "execution_count": 82,
     "metadata": {},
     "output_type": "execute_result"
    }
   ],
   "source": [
    "best_params_tree = tree_BO.max\n",
    "best_params_tree"
   ]
  },
  {
   "cell_type": "code",
   "execution_count": 83,
   "id": "fa3e3ae4",
   "metadata": {},
   "outputs": [
    {
     "data": {
      "text/plain": [
       "1.0805803571428572"
      ]
     },
     "execution_count": 83,
     "metadata": {},
     "output_type": "execute_result"
    }
   ],
   "source": [
    "tree = DecisionTreeClassifier(max_depth=int(tree_BO.max['params']['max_depth']))\n",
    "tree.fit(X_train, y_train)\n",
    "tree_y_pred = tree.predict(X_test)\n",
    "mean_absolute_error(y_test, tree_y_pred)"
   ]
  },
  {
   "cell_type": "code",
   "execution_count": 84,
   "id": "d712d6c1",
   "metadata": {},
   "outputs": [
    {
     "data": {
      "image/png": "[encoded data removed]",
      "text/plain": [
       "<Figure size 432x288 with 2 Axes>"
      ]
     },
     "metadata": {
      "needs_background": "light"
     },
     "output_type": "display_data"
    }
   ],
   "source": [
    "sns.heatmap(confusion_matrix(y_test, tree_y_pred))\n",
    "plt.xlabel('Predicted Sentiment')\n",
    "plt.ylabel('Actual Sentiment')\n",
    "plt.title('Confusion Matrix for Decision Tree')\n",
    "plt.show();"
   ]
  },
  {
   "cell_type": "code",
   "execution_count": 85,
   "id": "bdf0563e",
   "metadata": {},
   "outputs": [
    {
     "data": {
      "image/png": "[encoded data removed]",
      "text/plain": [
       "<Figure size 864x504 with 2 Axes>"
      ]
     },
     "metadata": {
      "needs_background": "light"
     },
     "output_type": "display_data"
    }
   ],
   "source": [
    "tree_val_counts = pd.DataFrame(np.unique(tree_y_pred, return_counts=True)[1], index=['Extremely Negative', 'Negative', 'Neutral', 'Positive', 'Extremely Positive'], columns=['Count'])\n",
    "\n",
    "fig, ax = plt.subplots(1,2)\n",
    "fig.set_size_inches(12, 7)\n",
    "sns.barplot(x='Count', y=actual_counts.index, orient=\"h\", data=actual_counts, ax=ax[0])\n",
    "ax[0].set_ylabel('Actual sentiment')\n",
    "ax[0].set_title('Actual Distribution of Labels')\n",
    "sns.barplot(x='Count', y=tree_val_counts.index, orient=\"h\", data=tree_val_counts, ax=ax[1])\n",
    "ax[1].set_title('Distribution of Labels Predicted by Decision Tree')\n",
    "ax[1].set_ylabel('Predicted sentiment')\n",
    "fig.tight_layout()\n",
    "plt.show();"
   ]
  },
  {
   "cell_type": "markdown",
   "id": "a4a8956b",
   "metadata": {},
   "source": [
    "The decision tree classifier suffers from the same problems as the KNN classifier, but to a greater degree. Accordingly, it score worse on mean difference in sentiment.  "
   ]
  },
  {
   "cell_type": "markdown",
   "id": "68eef9fb",
   "metadata": {},
   "source": [
    "## Random Forest"
   ]
  },
  {
   "cell_type": "code",
   "execution_count": 7,
   "id": "784448cd",
   "metadata": {},
   "outputs": [
    {
     "name": "stdout",
     "output_type": "stream",
     "text": [
      "|   iter    |  target   | max_depth | max_fe... | n_esti... |\n",
      "-------------------------------------------------------------\n",
      "| \u001b[0m 1       \u001b[0m | \u001b[0m-0.9204  \u001b[0m | \u001b[0m 28.06   \u001b[0m | \u001b[0m 2.912   \u001b[0m | \u001b[0m 693.0   \u001b[0m |\n",
      "| \u001b[95m 2       \u001b[0m | \u001b[95m-0.9172  \u001b[0m | \u001b[95m 40.22   \u001b[0m | \u001b[95m 4.8     \u001b[0m | \u001b[95m 803.9   \u001b[0m |\n",
      "| \u001b[0m 3       \u001b[0m | \u001b[0m-0.9224  \u001b[0m | \u001b[0m 41.76   \u001b[0m | \u001b[0m 4.63    \u001b[0m | \u001b[0m 805.2   \u001b[0m |\n",
      "| \u001b[0m 4       \u001b[0m | \u001b[0m-0.9467  \u001b[0m | \u001b[0m 11.23   \u001b[0m | \u001b[0m 1.75    \u001b[0m | \u001b[0m 680.2   \u001b[0m |\n",
      "| \u001b[0m 5       \u001b[0m | \u001b[0m-0.9225  \u001b[0m | \u001b[0m 34.05   \u001b[0m | \u001b[0m 4.164   \u001b[0m | \u001b[0m 804.5   \u001b[0m |\n",
      "| \u001b[0m 6       \u001b[0m | \u001b[0m-0.9176  \u001b[0m | \u001b[0m 37.56   \u001b[0m | \u001b[0m 3.872   \u001b[0m | \u001b[0m 797.4   \u001b[0m |\n",
      "| \u001b[0m 7       \u001b[0m | \u001b[0m-0.9203  \u001b[0m | \u001b[0m 45.59   \u001b[0m | \u001b[0m 2.366   \u001b[0m | \u001b[0m 793.3   \u001b[0m |\n",
      "| \u001b[0m 8       \u001b[0m | \u001b[0m-0.9178  \u001b[0m | \u001b[0m 35.54   \u001b[0m | \u001b[0m 2.376   \u001b[0m | \u001b[0m 787.2   \u001b[0m |\n",
      "| \u001b[0m 9       \u001b[0m | \u001b[0m-0.9213  \u001b[0m | \u001b[0m 42.6    \u001b[0m | \u001b[0m 4.117   \u001b[0m | \u001b[0m 781.8   \u001b[0m |\n",
      "| \u001b[0m 10      \u001b[0m | \u001b[0m-0.9192  \u001b[0m | \u001b[0m 29.13   \u001b[0m | \u001b[0m 3.025   \u001b[0m | \u001b[0m 791.8   \u001b[0m |\n",
      "| \u001b[95m 11      \u001b[0m | \u001b[95m-0.9153  \u001b[0m | \u001b[95m 24.96   \u001b[0m | \u001b[95m 1.158   \u001b[0m | \u001b[95m 781.7   \u001b[0m |\n",
      "| \u001b[0m 12      \u001b[0m | \u001b[0m-0.9249  \u001b[0m | \u001b[0m 32.06   \u001b[0m | \u001b[0m 1.15    \u001b[0m | \u001b[0m 780.0   \u001b[0m |\n",
      "=============================================================\n"
     ]
    }
   ],
   "source": [
    "def rf_eval(n_estimators, max_depth, max_features):\n",
    "    params = {'n_estimators' : int(n_estimators), 'max_depth' : int(max_depth), 'max_features' : int(max_features)}\n",
    "    scores = cross_val_score(RandomForestClassifier(**params), X_train, y_train, scoring=MAE, cv=5)\n",
    "    score = scores.mean()\n",
    "    return score\n",
    "\n",
    "rf_BO = BayesianOptimization(rf_eval, {'n_estimators' : (200, 2000), 'max_depth' : (10, 100) , 'max_features' : (1, 5)})\n",
    "\n",
    "rf_BO.maximize(n_iter=10, init_points=2)"
   ]
  },
  {
   "cell_type": "code",
   "execution_count": 8,
   "id": "720e4d4b",
   "metadata": {},
   "outputs": [
    {
     "data": {
      "text/plain": [
       "{'target': -0.9153001628812903,\n",
       " 'params': {'max_depth': 24.964011378647694,\n",
       "  'max_features': 1.1576578024473956,\n",
       "  'n_estimators': 781.7223145288478}}"
      ]
     },
     "execution_count": 8,
     "metadata": {},
     "output_type": "execute_result"
    }
   ],
   "source": [
    "best_params_rf = rf_BO.max\n",
    "best_params_rf"
   ]
  },
  {
   "cell_type": "code",
   "execution_count": 9,
   "id": "0bd8cd9f",
   "metadata": {},
   "outputs": [
    {
     "data": {
      "text/plain": [
       "0.9265625"
      ]
     },
     "execution_count": 9,
     "metadata": {},
     "output_type": "execute_result"
    }
   ],
   "source": [
    "rf = RandomForestClassifier(n_estimators=int(best_params_rf['params']['n_estimators']), max_depth=int(best_params_rf['params']['max_depth']), max_features=int(best_params_rf['params']['max_features']))\n",
    "rf.fit(X_train, y_train)\n",
    "rf_y_pred = rf.predict(X_test)\n",
    "mean_absolute_error(y_test, rf_y_pred)"
   ]
  },
  {
   "cell_type": "code",
   "execution_count": 15,
   "id": "0c01f18f",
   "metadata": {},
   "outputs": [
    {
     "data": {
      "image/png": "[encoded data removed]",
      "text/plain": [
       "<Figure size 432x288 with 2 Axes>"
      ]
     },
     "metadata": {
      "needs_background": "light"
     },
     "output_type": "display_data"
    }
   ],
   "source": [
    "sns.heatmap(confusion_matrix(y_test, rf_y_pred))\n",
    "plt.xlabel('Predicted Sentiment')\n",
    "plt.ylabel('Actual Sentiment')\n",
    "plt.title('Confusion Matrix for Random Forest')\n",
    "plt.show();"
   ]
  },
  {
   "cell_type": "code",
   "execution_count": 19,
   "id": "9015ea41",
   "metadata": {},
   "outputs": [
    {
     "data": {
      "image/png": "[encoded data removed]",
      "text/plain": [
       "<Figure size 864x504 with 2 Axes>"
      ]
     },
     "metadata": {
      "needs_background": "light"
     },
     "output_type": "display_data"
    }
   ],
   "source": [
    "rf_val_counts = pd.DataFrame(np.unique(rf_y_pred, return_counts=True)[1], index=['Extremely Negative', 'Negative', 'Neutral', 'Positive', 'Extremely Positive'], columns=['Count'])\n",
    "\n",
    "fig, ax = plt.subplots(1,2)\n",
    "fig.set_size_inches(12, 7)\n",
    "plot = sns.barplot(x='Count', y=actual_counts.index, orient=\"h\", data=actual_counts, ax=ax[0])\n",
    "ax[0].set_ylabel('Actual sentiment')\n",
    "ax[0].set_title('Actual Distribution of Labels')\n",
    "sns.barplot(x='Count', y=rf_val_counts.index, orient=\"h\", data=rf_val_counts, ax=ax[1])\n",
    "ax[1].set_title('Distribution of Labels Predicted by Random Forest')\n",
    "ax[1].set_ylabel('Predicted sentiment')\n",
    "fig.tight_layout()\n",
    "plt.show();\n",
    "fig = plot.get_figure()\n",
    "fig.savefig(\"Distribution_comparison\")"
   ]
  },
  {
   "cell_type": "markdown",
   "id": "10613399",
   "metadata": {},
   "source": [
    "The Random Forest classifier makes the same kinds of mistakes as the K-Nearest Neighbors and Decision Tree classifiers, but does so to a lesser degree. Unsurprisingly, it is the best classifier so far. "
   ]
  },
  {
   "cell_type": "markdown",
   "id": "c6ce4dd9",
   "metadata": {},
   "source": [
    "## Ada Boosting"
   ]
  },
  {
   "cell_type": "code",
   "execution_count": 63,
   "id": "8861ad36",
   "metadata": {},
   "outputs": [
    {
     "name": "stdout",
     "output_type": "stream",
     "text": [
      "|   iter    |  target   | learni... | n_esti... |\n",
      "-------------------------------------------------\n",
      "| \u001b[0m 1       \u001b[0m | \u001b[0m-1.017   \u001b[0m | \u001b[0m 1.905   \u001b[0m | \u001b[0m 592.0   \u001b[0m |\n",
      "| \u001b[95m 2       \u001b[0m | \u001b[95m-1.001   \u001b[0m | \u001b[95m 1.695   \u001b[0m | \u001b[95m 796.5   \u001b[0m |\n",
      "| \u001b[95m 3       \u001b[0m | \u001b[95m-1.001   \u001b[0m | \u001b[95m 1.827   \u001b[0m | \u001b[95m 795.2   \u001b[0m |\n",
      "| \u001b[95m 4       \u001b[0m | \u001b[95m-0.9645  \u001b[0m | \u001b[95m 1.055   \u001b[0m | \u001b[95m 1.995e+0\u001b[0m |\n",
      "| \u001b[95m 5       \u001b[0m | \u001b[95m-0.9642  \u001b[0m | \u001b[95m 1.602   \u001b[0m | \u001b[95m 1.854e+0\u001b[0m |\n",
      "| \u001b[0m 6       \u001b[0m | \u001b[0m-0.9771  \u001b[0m | \u001b[0m 1.463   \u001b[0m | \u001b[0m 1.594e+0\u001b[0m |\n",
      "| \u001b[0m 7       \u001b[0m | \u001b[0m-0.9783  \u001b[0m | \u001b[0m 1.891   \u001b[0m | \u001b[0m 1.311e+0\u001b[0m |\n",
      "| \u001b[0m 8       \u001b[0m | \u001b[0m-1.149   \u001b[0m | \u001b[0m 2.0     \u001b[0m | \u001b[0m 200.0   \u001b[0m |\n",
      "| \u001b[0m 9       \u001b[0m | \u001b[0m-1.031   \u001b[0m | \u001b[0m 2.0     \u001b[0m | \u001b[0m 1.132e+0\u001b[0m |\n",
      "| \u001b[0m 10      \u001b[0m | \u001b[0m-0.9775  \u001b[0m | \u001b[0m 1.0     \u001b[0m | \u001b[0m 1.445e+0\u001b[0m |\n",
      "| \u001b[0m 11      \u001b[0m | \u001b[0m-0.9707  \u001b[0m | \u001b[0m 1.0     \u001b[0m | \u001b[0m 1.741e+0\u001b[0m |\n",
      "| \u001b[95m 12      \u001b[0m | \u001b[95m-0.9639  \u001b[0m | \u001b[95m 1.992   \u001b[0m | \u001b[95m 1.93e+03\u001b[0m |\n",
      "=================================================\n"
     ]
    }
   ],
   "source": [
    "def ada_eval(n_estimators, learning_rate):\n",
    "    params = {'n_estimators' : int(n_estimators), 'learning_rate' : int(learning_rate)}\n",
    "    scores = cross_val_score(AdaBoostClassifier(base_estimator=tree, **params, random_state=42), X_train, y_train, scoring=MAE, cv=5)\n",
    "    score = scores.mean()\n",
    "    return score\n",
    "\n",
    "ada_BO = BayesianOptimization(ada_eval, {'n_estimators' : (200, 2000), 'learning_rate' : (1, 2)})\n",
    "\n",
    "ada_BO.maximize(n_iter=10, init_points=2)"
   ]
  },
  {
   "cell_type": "code",
   "execution_count": 64,
   "id": "8e4afdd6",
   "metadata": {},
   "outputs": [
    {
     "data": {
      "text/plain": [
       "{'target': -0.9638687937102765,\n",
       " 'params': {'learning_rate': 1.9922946412050149,\n",
       "  'n_estimators': 1930.458664805869}}"
      ]
     },
     "execution_count": 64,
     "metadata": {},
     "output_type": "execute_result"
    }
   ],
   "source": [
    "best_params_ada = ada_BO.max\n",
    "best_params_ada"
   ]
  },
  {
   "cell_type": "code",
   "execution_count": 66,
   "id": "e605b450",
   "metadata": {},
   "outputs": [
    {
     "data": {
      "text/plain": [
       "0.9635416666666666"
      ]
     },
     "execution_count": 66,
     "metadata": {},
     "output_type": "execute_result"
    }
   ],
   "source": [
    "ada = AdaBoostClassifier(base_estimator=tree, n_estimators=int(best_params_ada['params']['n_estimators']), learning_rate=int(best_params_ada['params']['learning_rate']), random_state=42)\n",
    "ada.fit(X_train, y_train)\n",
    "ada_y_pred = ada.predict(X_test)\n",
    "mean_absolute_error(y_test, ada_y_pred)"
   ]
  },
  {
   "cell_type": "code",
   "execution_count": 68,
   "id": "d12a4ae3",
   "metadata": {},
   "outputs": [
    {
     "data": {
      "image/png": "[encoded data removed]",
      "text/plain": [
       "<Figure size 432x288 with 2 Axes>"
      ]
     },
     "metadata": {
      "needs_background": "light"
     },
     "output_type": "display_data"
    }
   ],
   "source": [
    "sns.heatmap(confusion_matrix(y_test, ada_y_pred))\n",
    "plt.xlabel('Predicted Sentiment')\n",
    "plt.ylabel('Actual Sentiment')\n",
    "plt.title('Confusion Matrix for Ada Boosting')\n",
    "plt.show();"
   ]
  },
  {
   "cell_type": "code",
   "execution_count": 69,
   "id": "30e4cb19",
   "metadata": {},
   "outputs": [
    {
     "data": {
      "image/png": "[encoded data removed]",
      "text/plain": [
       "<Figure size 864x504 with 2 Axes>"
      ]
     },
     "metadata": {
      "needs_background": "light"
     },
     "output_type": "display_data"
    }
   ],
   "source": [
    "ada_val_counts = pd.DataFrame(np.unique(ada_y_pred, return_counts=True)[1], index=['Extremely Negative', 'Negative', 'Neutral', 'Positive', 'Extremely Positive'], columns=['Count'])\n",
    "\n",
    "fig, ax = plt.subplots(1,2)\n",
    "fig.set_size_inches(12, 7)\n",
    "sns.barplot(x='Count', y=actual_counts.index, orient=\"h\", data=actual_counts, ax=ax[0])\n",
    "ax[0].set_ylabel('Actual sentiment')\n",
    "ax[0].set_title('Actual Distribution of Labels')\n",
    "sns.barplot(x='Count', y=ada_val_counts.index, orient=\"h\", data=ada_val_counts, ax=ax[1])\n",
    "ax[1].set_title('Distribution of Labels Predicted by Ada Boosting')\n",
    "ax[1].set_ylabel('Predicted sentiment')\n",
    "fig.tight_layout()\n",
    "plt.show();\n",
    "plt.show();"
   ]
  },
  {
   "cell_type": "markdown",
   "id": "4ffaaabd",
   "metadata": {},
   "source": [
    "Ada Boosting improved on the performance of the Decision Tree classifier--achieving a MAE of .96--but did not outperform the Random Forest Classifier. Like KNN and the other tree-based classifiers, it frequently demoted Extremely Positive Tweets to the Positive category and occassionally mixed up Positive and Negative Tweets."
   ]
  },
  {
   "cell_type": "markdown",
   "id": "7d1e70b9",
   "metadata": {},
   "source": [
    "## Conclusion"
   ]
  },
  {
   "cell_type": "markdown",
   "id": "0a1be978",
   "metadata": {},
   "source": [
    "The best model was the Random Forest classifier with 782 estimators, a maximum of 1 feature, and a max depth of 25. "
   ]
  }
 ],
 "metadata": {
  "kernelspec": {
   "display_name": "Python 3 (ipykernel)",
   "language": "python",
   "name": "python3"
  },
  "language_info": {
   "codemirror_mode": {
    "name": "ipython",
    "version": 3
   },
   "file_extension": ".py",
   "mimetype": "text/x-python",
   "name": "python",
   "nbconvert_exporter": "python",
   "pygments_lexer": "ipython3",
   "version": "3.9.6"
  }
 },
 "nbformat": 4,
 "nbformat_minor": 5
}
