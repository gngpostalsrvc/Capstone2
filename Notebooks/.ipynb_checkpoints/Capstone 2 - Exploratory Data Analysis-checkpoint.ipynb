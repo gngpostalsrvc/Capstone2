{
 "cells": [
  {
   "cell_type": "markdown",
   "id": "5002dfb4",
   "metadata": {},
   "source": [
    "# 2. Exploratory Data Analysis"
   ]
  },
  {
   "cell_type": "code",
   "execution_count": 1,
   "id": "5c785ea1",
   "metadata": {},
   "outputs": [],
   "source": [
    "#Import the necessary packages\n",
    "import pandas as pd\n",
    "import numpy as np\n",
    "import matplotlib.pyplot as plt"
   ]
  },
  {
   "cell_type": "code",
   "execution_count": 2,
   "id": "0fb67615",
   "metadata": {},
   "outputs": [],
   "source": [
    "#Load the data\n",
    "df = pd.read_csv('Data/Corona_NLP.csv', index_col=0)"
   ]
  },
  {
   "cell_type": "markdown",
   "id": "a4c48f7e",
   "metadata": {},
   "source": [
    "Because this is a categorization problem, there isn't much EDA to be done until I tokenize and vectorize all of \n",
    "the words in the OriginalTweet column during the pre-processing stage of analysis. For now, I've simply produced a \n",
    "value count of the different sentiment scores, plotted it as a histogram, and assessed how well my own impression \n",
    "of the data coheres with the sentiment scores assigned by the dataset's creator using a hypothesis test."
   ]
  },
  {
   "cell_type": "code",
   "execution_count": 3,
   "id": "fd658fab",
   "metadata": {},
   "outputs": [
    {
     "data": {
      "text/plain": [
       "Positive              12366\n",
       "Negative              10951\n",
       "Neutral                8315\n",
       "Extremely Positive     7223\n",
       "Extremely Negative     6071\n",
       "Name: Sentiment, dtype: int64"
      ]
     },
     "execution_count": 3,
     "metadata": {},
     "output_type": "execute_result"
    }
   ],
   "source": [
    "df['Sentiment'].value_counts()"
   ]
  },
  {
   "cell_type": "markdown",
   "id": "29206d80",
   "metadata": {},
   "source": [
    "Interestingly, the value count skews toward the positive with more positive tweets than negative ones and \n",
    "more extremely positive tweets than extremely negative ones. Neutral tweets are also less common than positive and\n",
    "negative tweets, yielding a distribution with two peaks. "
   ]
  },
  {
   "cell_type": "code",
   "execution_count": 4,
   "id": "f06da63c",
   "metadata": {},
   "outputs": [
    {
     "data": {
      "image/png": "[encoded data removed]",
      "text/plain": [
       "<Figure size 432x288 with 1 Axes>"
      ]
     },
     "metadata": {
      "needs_background": "light"
     },
     "output_type": "display_data"
    }
   ],
   "source": [
    "df['Sentiment'].value_counts().loc[['Extremely Negative', 'Negative', 'Neutral', 'Positive', 'Extremely Positive']].plot.bar()\n",
    "plt.xlabel('Sentiment score')\n",
    "plt.ylabel('Count')\n",
    "plt.title('Distribution of sentiment scores')\n",
    "plt.show();"
   ]
  },
  {
   "cell_type": "markdown",
   "id": "6527ca37",
   "metadata": {},
   "source": [
    "Assessment of sentiment depends on a variety of factors (e.g., cultural context, individual disposition, etc.). \n",
    "Therefore, it is important to determine whether and to what extent I agree with the sentiment scores that \n",
    "the dataset's creator assigned to each Tweet. To do so, I examined a pseudo-random sample of ten Tweets and added \n",
    "my own sentiment scores to the sample data.  "
   ]
  },
  {
   "cell_type": "code",
   "execution_count": 5,
   "id": "af6023ce",
   "metadata": {},
   "outputs": [],
   "source": [
    "pd.set_option('display.max_colwidth', 500)\n",
    "sample = df.sample(10, random_state=34) #set the random state to ensure reproducibility\n",
    "sample['OriginalTweet']\n",
    "sample[\"Aren's Sentiment\"] = ['Extremely Positive', 'Negative', 'Positive', 'Neutral', 'Positive', 'Negative', 'Positive', 'Positive', 'Negative', 'Negative']"
   ]
  },
  {
   "cell_type": "markdown",
   "id": "10dc68bf",
   "metadata": {},
   "source": [
    "I then checked them against the scores assigned by the dataset's creator. "
   ]
  },
  {
   "cell_type": "code",
   "execution_count": 6,
   "id": "7ee83547",
   "metadata": {},
   "outputs": [
    {
     "data": {
      "text/html": [
       "<div>\n",
       "<style scoped>\n",
       "    .dataframe tbody tr th:only-of-type {\n",
       "        vertical-align: middle;\n",
       "    }\n",
       "\n",
       "    .dataframe tbody tr th {\n",
       "        vertical-align: top;\n",
       "    }\n",
       "\n",
       "    .dataframe thead th {\n",
       "        text-align: right;\n",
       "    }\n",
       "</style>\n",
       "<table border=\"1\" class=\"dataframe\">\n",
       "  <thead>\n",
       "    <tr style=\"text-align: right;\">\n",
       "      <th></th>\n",
       "      <th>OriginalTweet</th>\n",
       "      <th>Sentiment</th>\n",
       "      <th>Aren's Sentiment</th>\n",
       "    </tr>\n",
       "  </thead>\n",
       "  <tbody>\n",
       "    <tr>\n",
       "      <th>12836</th>\n",
       "      <td>During this #Covid_19 pandemic, lets appreciate and thank the #heroes: the grocery store clerks, the emergency responders, nurses, bus drivers, garbage collectors, social services staff, and everyone in between. https://t.co/TfcvqoXoow\\r\\r\\n\\r\\r\\n#workers #essentialworkers</td>\n",
       "      <td>Positive</td>\n",
       "      <td>Extremely Positive</td>\n",
       "    </tr>\n",
       "    <tr>\n",
       "      <th>28591</th>\n",
       "      <td>Police ask carers and supermarket delivery drivers to look for signs of domestic abuse #coronavirus https://t.co/OOb9WEsWns</td>\n",
       "      <td>Extremely Negative</td>\n",
       "      <td>Negative</td>\n",
       "    </tr>\n",
       "    <tr>\n",
       "      <th>37276</th>\n",
       "      <td>Beyond Meat donating one million vegan burgers to front line workers. \\r\\r\\n\\r\\r\\nBecause no one wants to buy them at the grocery store. \\r\\r\\n\\r\\r\\nIn all seriousness, good on them. \\r\\r\\n\\r\\r\\nhttps://t.co/nG2k2lI4Zx</td>\n",
       "      <td>Positive</td>\n",
       "      <td>Positive</td>\n",
       "    </tr>\n",
       "    <tr>\n",
       "      <th>37521</th>\n",
       "      <td>I just bought 3 containers of hand sanitizer and some face masks from behind the counter. Oh how times have changed #coronavirus #COVID19 #COVID</td>\n",
       "      <td>Positive</td>\n",
       "      <td>Neutral</td>\n",
       "    </tr>\n",
       "    <tr>\n",
       "      <th>22154</th>\n",
       "      <td>The company said Sunday it will initially produce 50,000 bottles of hand sanitizer, at five locations across the country, that will be donated to Food Banks Canada #CanadaCovid19 #coronawarriors #coronavirus  https://t.co/oXPodZI2Bf</td>\n",
       "      <td>Positive</td>\n",
       "      <td>Positive</td>\n",
       "    </tr>\n",
       "    <tr>\n",
       "      <th>42301</th>\n",
       "      <td>My son kept asking, Is Daddy going to die? Is he going to die today? one parent who survived Covid-19 in Utah said. It was good to be able to tell him no.\\r\\r\\nhttps://t.co/YG1t2JtACh</td>\n",
       "      <td>Negative</td>\n",
       "      <td>Negative</td>\n",
       "    </tr>\n",
       "    <tr>\n",
       "      <th>21235</th>\n",
       "      <td>I tipped the grocery store clerk this afternoon, theyre on the frontlines also and I appreciate what theyre doing #coronavirus</td>\n",
       "      <td>Positive</td>\n",
       "      <td>Positive</td>\n",
       "    </tr>\n",
       "    <tr>\n",
       "      <th>35481</th>\n",
       "      <td>Local gas station drops prices spreads positivity for a day</td>\n",
       "      <td>Positive</td>\n",
       "      <td>Positive</td>\n",
       "    </tr>\n",
       "    <tr>\n",
       "      <th>685</th>\n",
       "      <td>Craziness at the #Zehrs grocery store here in #Barrie - no more #toiletpaper! #CoronavirusPandemic #CoronaOutbreak #Covid_19 - ??? I think people need to chill a bit! https://t.co/qqc2OsRhtO</td>\n",
       "      <td>Negative</td>\n",
       "      <td>Negative</td>\n",
       "    </tr>\n",
       "    <tr>\n",
       "      <th>11572</th>\n",
       "      <td>When the highlight of your day is going to the supermarket and you should be on the beach sipping cocktails ??#coronavirus</td>\n",
       "      <td>Positive</td>\n",
       "      <td>Negative</td>\n",
       "    </tr>\n",
       "  </tbody>\n",
       "</table>\n",
       "</div>"
      ],
      "text/plain": [
       "                                                                                                                                                                                                                                                                            OriginalTweet  \\\n",
       "12836  During this #Covid_19 pandemic, lets appreciate and thank the #heroes: the grocery store clerks, the emergency responders, nurses, bus drivers, garbage collectors, social services staff, and everyone in between. https://t.co/TfcvqoXoow\\r\\r\\n\\r\\r\\n#workers #essentialworkers   \n",
       "28591                                                                                                                                                         Police ask carers and supermarket delivery drivers to look for signs of domestic abuse #coronavirus https://t.co/OOb9WEsWns   \n",
       "37276                                                          Beyond Meat donating one million vegan burgers to front line workers. \\r\\r\\n\\r\\r\\nBecause no one wants to buy them at the grocery store. \\r\\r\\n\\r\\r\\nIn all seriousness, good on them. \\r\\r\\n\\r\\r\\nhttps://t.co/nG2k2lI4Zx   \n",
       "37521                                                                                                                                    I just bought 3 containers of hand sanitizer and some face masks from behind the counter. Oh how times have changed #coronavirus #COVID19 #COVID   \n",
       "22154                                            The company said Sunday it will initially produce 50,000 bottles of hand sanitizer, at five locations across the country, that will be donated to Food Banks Canada #CanadaCovid19 #coronawarriors #coronavirus  https://t.co/oXPodZI2Bf   \n",
       "42301                                                                                       My son kept asking, Is Daddy going to die? Is he going to die today? one parent who survived Covid-19 in Utah said. It was good to be able to tell him no.\\r\\r\\nhttps://t.co/YG1t2JtACh   \n",
       "21235                                                                                                                                                    I tipped the grocery store clerk this afternoon, theyre on the frontlines also and I appreciate what theyre doing #coronavirus   \n",
       "35481                                                                                                                                                                                                                         Local gas station drops prices spreads positivity for a day   \n",
       "685                                                                                        Craziness at the #Zehrs grocery store here in #Barrie - no more #toiletpaper! #CoronavirusPandemic #CoronaOutbreak #Covid_19 - ??? I think people need to chill a bit! https://t.co/qqc2OsRhtO   \n",
       "11572                                                                                                                                                          When the highlight of your day is going to the supermarket and you should be on the beach sipping cocktails ??#coronavirus   \n",
       "\n",
       "                Sentiment    Aren's Sentiment  \n",
       "12836            Positive  Extremely Positive  \n",
       "28591  Extremely Negative            Negative  \n",
       "37276            Positive            Positive  \n",
       "37521            Positive             Neutral  \n",
       "22154            Positive            Positive  \n",
       "42301            Negative            Negative  \n",
       "21235            Positive            Positive  \n",
       "35481            Positive            Positive  \n",
       "685              Negative            Negative  \n",
       "11572            Positive            Negative  "
      ]
     },
     "execution_count": 6,
     "metadata": {},
     "output_type": "execute_result"
    }
   ],
   "source": [
    "sample"
   ]
  },
  {
   "cell_type": "markdown",
   "id": "f58ad4a4",
   "metadata": {},
   "source": [
    "As the resulting DataFrame shows, our sentiment scores differ in several places. But how serious are these \n",
    "differences? To assess this, I replaced the categories with numbers and calculated the differences in our scores."
   ]
  },
  {
   "cell_type": "code",
   "execution_count": 7,
   "id": "974979b6",
   "metadata": {},
   "outputs": [
    {
     "data": {
      "text/html": [
       "<div>\n",
       "<style scoped>\n",
       "    .dataframe tbody tr th:only-of-type {\n",
       "        vertical-align: middle;\n",
       "    }\n",
       "\n",
       "    .dataframe tbody tr th {\n",
       "        vertical-align: top;\n",
       "    }\n",
       "\n",
       "    .dataframe thead th {\n",
       "        text-align: right;\n",
       "    }\n",
       "</style>\n",
       "<table border=\"1\" class=\"dataframe\">\n",
       "  <thead>\n",
       "    <tr style=\"text-align: right;\">\n",
       "      <th></th>\n",
       "      <th>OriginalTweet</th>\n",
       "      <th>Sentiment</th>\n",
       "      <th>Aren's Sentiment</th>\n",
       "      <th>Difference</th>\n",
       "    </tr>\n",
       "  </thead>\n",
       "  <tbody>\n",
       "    <tr>\n",
       "      <th>12836</th>\n",
       "      <td>During this #Covid_19 pandemic, lets appreciate and thank the #heroes: the grocery store clerks, the emergency responders, nurses, bus drivers, garbage collectors, social services staff, and everyone in between. https://t.co/TfcvqoXoow\\r\\r\\n\\r\\r\\n#workers #essentialworkers</td>\n",
       "      <td>3</td>\n",
       "      <td>4</td>\n",
       "      <td>1</td>\n",
       "    </tr>\n",
       "    <tr>\n",
       "      <th>28591</th>\n",
       "      <td>Police ask carers and supermarket delivery drivers to look for signs of domestic abuse #coronavirus https://t.co/OOb9WEsWns</td>\n",
       "      <td>0</td>\n",
       "      <td>1</td>\n",
       "      <td>1</td>\n",
       "    </tr>\n",
       "    <tr>\n",
       "      <th>37276</th>\n",
       "      <td>Beyond Meat donating one million vegan burgers to front line workers. \\r\\r\\n\\r\\r\\nBecause no one wants to buy them at the grocery store. \\r\\r\\n\\r\\r\\nIn all seriousness, good on them. \\r\\r\\n\\r\\r\\nhttps://t.co/nG2k2lI4Zx</td>\n",
       "      <td>3</td>\n",
       "      <td>3</td>\n",
       "      <td>0</td>\n",
       "    </tr>\n",
       "    <tr>\n",
       "      <th>37521</th>\n",
       "      <td>I just bought 3 containers of hand sanitizer and some face masks from behind the counter. Oh how times have changed #coronavirus #COVID19 #COVID</td>\n",
       "      <td>3</td>\n",
       "      <td>2</td>\n",
       "      <td>1</td>\n",
       "    </tr>\n",
       "    <tr>\n",
       "      <th>22154</th>\n",
       "      <td>The company said Sunday it will initially produce 50,000 bottles of hand sanitizer, at five locations across the country, that will be donated to Food Banks Canada #CanadaCovid19 #coronawarriors #coronavirus  https://t.co/oXPodZI2Bf</td>\n",
       "      <td>3</td>\n",
       "      <td>3</td>\n",
       "      <td>0</td>\n",
       "    </tr>\n",
       "    <tr>\n",
       "      <th>42301</th>\n",
       "      <td>My son kept asking, Is Daddy going to die? Is he going to die today? one parent who survived Covid-19 in Utah said. It was good to be able to tell him no.\\r\\r\\nhttps://t.co/YG1t2JtACh</td>\n",
       "      <td>1</td>\n",
       "      <td>1</td>\n",
       "      <td>0</td>\n",
       "    </tr>\n",
       "    <tr>\n",
       "      <th>21235</th>\n",
       "      <td>I tipped the grocery store clerk this afternoon, theyre on the frontlines also and I appreciate what theyre doing #coronavirus</td>\n",
       "      <td>3</td>\n",
       "      <td>3</td>\n",
       "      <td>0</td>\n",
       "    </tr>\n",
       "    <tr>\n",
       "      <th>35481</th>\n",
       "      <td>Local gas station drops prices spreads positivity for a day</td>\n",
       "      <td>3</td>\n",
       "      <td>3</td>\n",
       "      <td>0</td>\n",
       "    </tr>\n",
       "    <tr>\n",
       "      <th>685</th>\n",
       "      <td>Craziness at the #Zehrs grocery store here in #Barrie - no more #toiletpaper! #CoronavirusPandemic #CoronaOutbreak #Covid_19 - ??? I think people need to chill a bit! https://t.co/qqc2OsRhtO</td>\n",
       "      <td>1</td>\n",
       "      <td>1</td>\n",
       "      <td>0</td>\n",
       "    </tr>\n",
       "    <tr>\n",
       "      <th>11572</th>\n",
       "      <td>When the highlight of your day is going to the supermarket and you should be on the beach sipping cocktails ??#coronavirus</td>\n",
       "      <td>3</td>\n",
       "      <td>1</td>\n",
       "      <td>2</td>\n",
       "    </tr>\n",
       "  </tbody>\n",
       "</table>\n",
       "</div>"
      ],
      "text/plain": [
       "                                                                                                                                                                                                                                                                            OriginalTweet  \\\n",
       "12836  During this #Covid_19 pandemic, lets appreciate and thank the #heroes: the grocery store clerks, the emergency responders, nurses, bus drivers, garbage collectors, social services staff, and everyone in between. https://t.co/TfcvqoXoow\\r\\r\\n\\r\\r\\n#workers #essentialworkers   \n",
       "28591                                                                                                                                                         Police ask carers and supermarket delivery drivers to look for signs of domestic abuse #coronavirus https://t.co/OOb9WEsWns   \n",
       "37276                                                          Beyond Meat donating one million vegan burgers to front line workers. \\r\\r\\n\\r\\r\\nBecause no one wants to buy them at the grocery store. \\r\\r\\n\\r\\r\\nIn all seriousness, good on them. \\r\\r\\n\\r\\r\\nhttps://t.co/nG2k2lI4Zx   \n",
       "37521                                                                                                                                    I just bought 3 containers of hand sanitizer and some face masks from behind the counter. Oh how times have changed #coronavirus #COVID19 #COVID   \n",
       "22154                                            The company said Sunday it will initially produce 50,000 bottles of hand sanitizer, at five locations across the country, that will be donated to Food Banks Canada #CanadaCovid19 #coronawarriors #coronavirus  https://t.co/oXPodZI2Bf   \n",
       "42301                                                                                       My son kept asking, Is Daddy going to die? Is he going to die today? one parent who survived Covid-19 in Utah said. It was good to be able to tell him no.\\r\\r\\nhttps://t.co/YG1t2JtACh   \n",
       "21235                                                                                                                                                    I tipped the grocery store clerk this afternoon, theyre on the frontlines also and I appreciate what theyre doing #coronavirus   \n",
       "35481                                                                                                                                                                                                                         Local gas station drops prices spreads positivity for a day   \n",
       "685                                                                                        Craziness at the #Zehrs grocery store here in #Barrie - no more #toiletpaper! #CoronavirusPandemic #CoronaOutbreak #Covid_19 - ??? I think people need to chill a bit! https://t.co/qqc2OsRhtO   \n",
       "11572                                                                                                                                                          When the highlight of your day is going to the supermarket and you should be on the beach sipping cocktails ??#coronavirus   \n",
       "\n",
       "       Sentiment  Aren's Sentiment  Difference  \n",
       "12836          3                 4           1  \n",
       "28591          0                 1           1  \n",
       "37276          3                 3           0  \n",
       "37521          3                 2           1  \n",
       "22154          3                 3           0  \n",
       "42301          1                 1           0  \n",
       "21235          3                 3           0  \n",
       "35481          3                 3           0  \n",
       "685            1                 1           0  \n",
       "11572          3                 1           2  "
      ]
     },
     "execution_count": 7,
     "metadata": {},
     "output_type": "execute_result"
    }
   ],
   "source": [
    "replacement_values = {\"Extremely Negative\": 0, \"Negative\" : 1, \"Neutral\" : 2, \"Positive\" : 3, \"Extremely Positive\" : 4}\n",
    "sample[\"Sentiment\"].replace(replacement_values, inplace=True)\n",
    "sample[\"Aren's Sentiment\"].replace(replacement_values, inplace=True)\n",
    "sample[\"Difference\"] = np.abs(sample[\"Sentiment\"] - sample[\"Aren's Sentiment\"])\n",
    "sample"
   ]
  },
  {
   "cell_type": "markdown",
   "id": "3aa45734",
   "metadata": {},
   "source": [
    "Overall there is a mean difference of .5 between our scores."
   ]
  },
  {
   "cell_type": "code",
   "execution_count": 8,
   "id": "98f8314e",
   "metadata": {},
   "outputs": [
    {
     "data": {
      "text/plain": [
       "0.5"
      ]
     },
     "execution_count": 8,
     "metadata": {},
     "output_type": "execute_result"
    }
   ],
   "source": [
    "np.mean(sample['Difference'])"
   ]
  },
  {
   "cell_type": "markdown",
   "id": "a8a89df1",
   "metadata": {},
   "source": [
    "But with such a small sample size, the mean difference is more sensitive to outliers. If, for example, the dataset's creator and I only agree about a small number of cases and most of these outliers are present in the sample, then the mean difference would be artificially depressed. To test whether or not this is the case, I've checked how the average mean difference changes as the number of samples increases. "
   ]
  },
  {
   "cell_type": "code",
   "execution_count": 9,
   "id": "092ee227",
   "metadata": {},
   "outputs": [
    {
     "data": {
      "image/png": "[encoded data removed]",
      "text/plain": [
       "<Figure size 432x288 with 1 Axes>"
      ]
     },
     "metadata": {
      "needs_background": "light"
     },
     "output_type": "display_data"
    }
   ],
   "source": [
    "sample_sizes = np.arange(10, 110, 10)\n",
    "\n",
    "variable_sample = df.sample(100, random_state=34)\n",
    "variable_sample[\"Aren's Sentiment\"] = ['Extremely Positive', 'Negative', 'Positive', 'Neutral', 'Positive', 'Negative', 'Positive', 'Positive', 'Negative', 'Negative', 'Positive', 'Negative', 'Negative', 'Extremely Negative', 'Positive', 'Positive', 'Positive', 'Neutral', 'Neutral', 'Positive', 'Positive', 'Positive', 'Negative', 'Neutral', 'Negative', 'Neutral', 'Neutral', 'Negative', 'Positive', 'Negative', 'Positive', 'Neutral', 'Neutral', 'Extremely Negative', 'Positive', 'Negative', 'Negative', 'Negative', 'Neutral', 'Neutral', 'Neutral', 'Neutral', 'Neutral', 'Extremely Negative', 'Extremely Negative', 'Negative', 'Extremely Negative', 'Neutral', 'Extremely Negative', 'Negative', 'Negative', 'Positive', 'Negative', 'Neutral', 'Neutral', 'Neutral', 'Negative', 'Neutral', 'Extremely Positive', 'Extremely Negative', 'Negative', 'Negative', 'Negative', 'Neutral', 'Negative', 'Positive', 'Neutral', 'Positive', 'Neutral', 'Negative', 'Extremely Positive', 'Negative', 'Negative', 'Neutral', 'Negative', 'Neutral', 'Negative', 'Negative', 'Neutral', 'Negative', 'Extremely Negative', 'Negative', 'Positive', 'Positive', 'Negative', 'Extremely Negative', 'Negative', 'Negative', 'Neutral', 'Negative', 'Negative', 'Neutral', 'Positive', 'Extremely Negative', 'Neutral', 'Negative', 'Negative', 'Negative', 'Neutral', 'Extremely Positive']\n",
    "variable_sample[\"Sentiment\"].replace(replacement_values, inplace=True)\n",
    "variable_sample[\"Aren's Sentiment\"].replace(replacement_values, inplace=True)\n",
    "variable_sample[\"Difference\"] = np.abs(variable_sample[\"Sentiment\"] - variable_sample[\"Aren's Sentiment\"])  \n",
    "\n",
    "mean_diffs = [np.mean(variable_sample.iloc[:size]['Difference']) for size in sample_sizes]\n",
    "\n",
    "plt.plot(sample_sizes, mean_diffs, marker='.')\n",
    "plt.xlabel('Number of sample Tweets')\n",
    "plt.ylabel('Average difference in sentiment score')\n",
    "plt.title('Average difference in sentiment score under increasing sample sizes')\n",
    "plt.show();"
   ]
  },
  {
   "cell_type": "markdown",
   "id": "145ff6f2",
   "metadata": {},
   "source": [
    "As the chart shows, the mean difference increases as the sample size increases, but plateaus around 1.08. But what exactly does this mean? Does it indicate compatibility or incompatibility?  \n",
    "\n",
    "We can answer this question by preforming a hypothesis test using 10000 bootstrap resamples of both the 10 tweet and 100 tweet samples. The null hypothesis is that our sentiment scores are fundamentally incompatible (i.e., have a mean difference of 2 or more, which corresponds to a change from negative to positive or vice-versa); the alternative hypothesis is that they are compatible.  "
   ]
  },
  {
   "cell_type": "code",
   "execution_count": 10,
   "id": "eb02298d",
   "metadata": {},
   "outputs": [
    {
     "data": {
      "image/png": "[encoded data removed]",
      "text/plain": [
       "<Figure size 432x288 with 1 Axes>"
      ]
     },
     "metadata": {
      "needs_background": "light"
     },
     "output_type": "display_data"
    }
   ],
   "source": [
    "avg_diffs_10 = np.empty(10000)\n",
    "np.random.seed(42) #set the seed to ensure reproducibility\n",
    "\n",
    "for i in range(10000):\n",
    "    avg_diffs_10[i] = np.mean(np.abs(sample[\"Sentiment\"] - np.random.choice(sample[\"Aren's Sentiment\"], 10)))\n",
    "\n",
    "fig, ax = plt.subplots()\n",
    "ax.hist(avg_diffs_10, bins=100)\n",
    "ax.vlines(2, ymin=0, ymax=1200, color='red', linestyle='--')\n",
    "ax.set_xlabel('Mean difference in sentiment score')\n",
    "ax.set_ylabel('Count')\n",
    "ax.set_title('Distribution of mean differences in sentiment score')\n",
    "plt.show();"
   ]
  },
  {
   "cell_type": "code",
   "execution_count": 11,
   "id": "13744a50",
   "metadata": {},
   "outputs": [
    {
     "data": {
      "image/png": "[encoded data removed]",
      "text/plain": [
       "<Figure size 432x288 with 1 Axes>"
      ]
     },
     "metadata": {
      "needs_background": "light"
     },
     "output_type": "display_data"
    }
   ],
   "source": [
    "avg_diffs_100 = np.empty(10000)\n",
    "np.random.seed(42) #set the seed to ensure reproducibility\n",
    "\n",
    "for i in range(10000):\n",
    "    avg_diffs_100[i] = np.mean(np.abs(variable_sample[\"Sentiment\"] - np.random.choice(variable_sample[\"Aren's Sentiment\"], 100)))\n",
    "\n",
    "fig, ax = plt.subplots()\n",
    "ax.hist(avg_diffs_100, bins=100)\n",
    "ax.vlines(2, ymin=0, ymax=1200, color='red', linestyle='--')\n",
    "ax.set_xlabel('Mean difference in sentiment score')\n",
    "ax.set_ylabel('Count')\n",
    "ax.set_title('Distribution of mean differences in sentiment score')\n",
    "plt.show();"
   ]
  },
  {
   "cell_type": "markdown",
   "id": "569da312",
   "metadata": {},
   "source": [
    "The p value for a mean of 2.0 is very low (.0012) for the 10 Tweet sample (indicating that we would expect a mean difference in sentiment score of 2.0 or higher in only .12% of simulations due to natural variability alone.) and extremely low (less than .0001) for the 100 Tweet sample. So I feel fairly confident in rejecting the null hypothesis and using the sentiment scores included in the dataset as a convenient proxy for my\n",
    "own. "
   ]
  },
  {
   "cell_type": "code",
   "execution_count": 12,
   "id": "561bb698",
   "metadata": {},
   "outputs": [
    {
     "data": {
      "text/plain": [
       "0.0012"
      ]
     },
     "execution_count": 12,
     "metadata": {},
     "output_type": "execute_result"
    }
   ],
   "source": [
    "p10 = len(avg_diffs_10[avg_diffs_10 > 2.0])/len(avg_diffs_10)\n",
    "p10"
   ]
  },
  {
   "cell_type": "code",
   "execution_count": 13,
   "id": "7a5329c6",
   "metadata": {},
   "outputs": [
    {
     "data": {
      "text/plain": [
       "0.0"
      ]
     },
     "execution_count": 13,
     "metadata": {},
     "output_type": "execute_result"
    }
   ],
   "source": [
    "p100 = len(avg_diffs_100[avg_diffs_100 > 2.0])/len(avg_diffs_100)\n",
    "p100"
   ]
  }
 ],
 "metadata": {
  "kernelspec": {
   "display_name": "Python 3 (ipykernel)",
   "language": "python",
   "name": "python3"
  },
  "language_info": {
   "codemirror_mode": {
    "name": "ipython",
    "version": 3
   },
   "file_extension": ".py",
   "mimetype": "text/x-python",
   "name": "python",
   "nbconvert_exporter": "python",
   "pygments_lexer": "ipython3",
   "version": "3.9.6"
  }
 },
 "nbformat": 4,
 "nbformat_minor": 5
}
